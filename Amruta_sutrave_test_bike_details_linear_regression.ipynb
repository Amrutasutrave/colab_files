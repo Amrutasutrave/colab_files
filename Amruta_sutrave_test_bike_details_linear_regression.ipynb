{
  "nbformat": 4,
  "nbformat_minor": 0,
  "metadata": {
    "colab": {
      "provenance": [],
      "authorship_tag": "ABX9TyMdoKXDts0t9Xu2LYJBEGRU",
      "include_colab_link": true
    },
    "kernelspec": {
      "name": "python3",
      "display_name": "Python 3"
    },
    "language_info": {
      "name": "python"
    }
  },
  "cells": [
    {
      "cell_type": "markdown",
      "metadata": {
        "id": "view-in-github",
        "colab_type": "text"
      },
      "source": [
        "<a href=\"https://colab.research.google.com/github/Amrutasutrave/colab_files/blob/main/Amruta_sutrave_test_bike_details_linear_regression.ipynb\" target=\"_parent\"><img src=\"https://colab.research.google.com/assets/colab-badge.svg\" alt=\"Open In Colab\"/></a>"
      ]
    },
    {
      "cell_type": "code",
      "execution_count": null,
      "metadata": {
        "id": "ZW32pjNIZ7vZ"
      },
      "outputs": [],
      "source": [
        "import numpy as np\n",
        "import pandas as pd\n",
        "import matplotlib.pyplot as plt\n",
        "import seaborn as sns\n",
        "import warnings\n",
        "warnings.filterwarnings('ignore')"
      ]
    },
    {
      "cell_type": "code",
      "source": [
        "from sklearn.model_selection import train_test_split\n",
        "from sklearn.linear_model import LinearRegression\n",
        "from sklearn.metrics import mean_squared_error,r2_score,mean_absolute_error"
      ],
      "metadata": {
        "id": "Mv2NGDYd_SCe"
      },
      "execution_count": null,
      "outputs": []
    },
    {
      "cell_type": "code",
      "source": [
        "df=pd.read_csv('/content/BIKE DETAILS.csv')\n",
        "df.head()"
      ],
      "metadata": {
        "colab": {
          "base_uri": "https://localhost:8080/",
          "height": 486
        },
        "id": "hGC-tCaZaFcl",
        "outputId": "53b1c757-760e-4cdc-ed0b-e5afe3a6b31b"
      },
      "execution_count": null,
      "outputs": [
        {
          "output_type": "execute_result",
          "data": {
            "text/plain": [
              "                                  name  selling_price  year seller_type  \\\n",
              "0            Royal Enfield Classic 350         175000  2019  Individual   \n",
              "1                            Honda Dio          45000  2017  Individual   \n",
              "2  Royal Enfield Classic Gunmetal Grey         150000  2018  Individual   \n",
              "3    Yamaha Fazer FI V 2.0 [2016-2018]          65000  2015  Individual   \n",
              "4                Yamaha SZ [2013-2014]          20000  2011  Individual   \n",
              "\n",
              "       owner  km_driven  ex_showroom_price  \n",
              "0  1st owner        350                NaN  \n",
              "1  1st owner       5650                NaN  \n",
              "2  1st owner      12000           148114.0  \n",
              "3  1st owner      23000            89643.0  \n",
              "4  2nd owner      21000                NaN  "
            ],
            "text/html": [
              "\n",
              "  <div id=\"df-fbdc73d8-bdf0-40e2-894c-ea8bc8a2a4b1\" class=\"colab-df-container\">\n",
              "    <div>\n",
              "<style scoped>\n",
              "    .dataframe tbody tr th:only-of-type {\n",
              "        vertical-align: middle;\n",
              "    }\n",
              "\n",
              "    .dataframe tbody tr th {\n",
              "        vertical-align: top;\n",
              "    }\n",
              "\n",
              "    .dataframe thead th {\n",
              "        text-align: right;\n",
              "    }\n",
              "</style>\n",
              "<table border=\"1\" class=\"dataframe\">\n",
              "  <thead>\n",
              "    <tr style=\"text-align: right;\">\n",
              "      <th></th>\n",
              "      <th>name</th>\n",
              "      <th>selling_price</th>\n",
              "      <th>year</th>\n",
              "      <th>seller_type</th>\n",
              "      <th>owner</th>\n",
              "      <th>km_driven</th>\n",
              "      <th>ex_showroom_price</th>\n",
              "    </tr>\n",
              "  </thead>\n",
              "  <tbody>\n",
              "    <tr>\n",
              "      <th>0</th>\n",
              "      <td>Royal Enfield Classic 350</td>\n",
              "      <td>175000</td>\n",
              "      <td>2019</td>\n",
              "      <td>Individual</td>\n",
              "      <td>1st owner</td>\n",
              "      <td>350</td>\n",
              "      <td>NaN</td>\n",
              "    </tr>\n",
              "    <tr>\n",
              "      <th>1</th>\n",
              "      <td>Honda Dio</td>\n",
              "      <td>45000</td>\n",
              "      <td>2017</td>\n",
              "      <td>Individual</td>\n",
              "      <td>1st owner</td>\n",
              "      <td>5650</td>\n",
              "      <td>NaN</td>\n",
              "    </tr>\n",
              "    <tr>\n",
              "      <th>2</th>\n",
              "      <td>Royal Enfield Classic Gunmetal Grey</td>\n",
              "      <td>150000</td>\n",
              "      <td>2018</td>\n",
              "      <td>Individual</td>\n",
              "      <td>1st owner</td>\n",
              "      <td>12000</td>\n",
              "      <td>148114.0</td>\n",
              "    </tr>\n",
              "    <tr>\n",
              "      <th>3</th>\n",
              "      <td>Yamaha Fazer FI V 2.0 [2016-2018]</td>\n",
              "      <td>65000</td>\n",
              "      <td>2015</td>\n",
              "      <td>Individual</td>\n",
              "      <td>1st owner</td>\n",
              "      <td>23000</td>\n",
              "      <td>89643.0</td>\n",
              "    </tr>\n",
              "    <tr>\n",
              "      <th>4</th>\n",
              "      <td>Yamaha SZ [2013-2014]</td>\n",
              "      <td>20000</td>\n",
              "      <td>2011</td>\n",
              "      <td>Individual</td>\n",
              "      <td>2nd owner</td>\n",
              "      <td>21000</td>\n",
              "      <td>NaN</td>\n",
              "    </tr>\n",
              "  </tbody>\n",
              "</table>\n",
              "</div>\n",
              "    <div class=\"colab-df-buttons\">\n",
              "\n",
              "  <div class=\"colab-df-container\">\n",
              "    <button class=\"colab-df-convert\" onclick=\"convertToInteractive('df-fbdc73d8-bdf0-40e2-894c-ea8bc8a2a4b1')\"\n",
              "            title=\"Convert this dataframe to an interactive table.\"\n",
              "            style=\"display:none;\">\n",
              "\n",
              "  <svg xmlns=\"http://www.w3.org/2000/svg\" height=\"24px\" viewBox=\"0 -960 960 960\">\n",
              "    <path d=\"M120-120v-720h720v720H120Zm60-500h600v-160H180v160Zm220 220h160v-160H400v160Zm0 220h160v-160H400v160ZM180-400h160v-160H180v160Zm440 0h160v-160H620v160ZM180-180h160v-160H180v160Zm440 0h160v-160H620v160Z\"/>\n",
              "  </svg>\n",
              "    </button>\n",
              "\n",
              "  <style>\n",
              "    .colab-df-container {\n",
              "      display:flex;\n",
              "      gap: 12px;\n",
              "    }\n",
              "\n",
              "    .colab-df-convert {\n",
              "      background-color: #E8F0FE;\n",
              "      border: none;\n",
              "      border-radius: 50%;\n",
              "      cursor: pointer;\n",
              "      display: none;\n",
              "      fill: #1967D2;\n",
              "      height: 32px;\n",
              "      padding: 0 0 0 0;\n",
              "      width: 32px;\n",
              "    }\n",
              "\n",
              "    .colab-df-convert:hover {\n",
              "      background-color: #E2EBFA;\n",
              "      box-shadow: 0px 1px 2px rgba(60, 64, 67, 0.3), 0px 1px 3px 1px rgba(60, 64, 67, 0.15);\n",
              "      fill: #174EA6;\n",
              "    }\n",
              "\n",
              "    .colab-df-buttons div {\n",
              "      margin-bottom: 4px;\n",
              "    }\n",
              "\n",
              "    [theme=dark] .colab-df-convert {\n",
              "      background-color: #3B4455;\n",
              "      fill: #D2E3FC;\n",
              "    }\n",
              "\n",
              "    [theme=dark] .colab-df-convert:hover {\n",
              "      background-color: #434B5C;\n",
              "      box-shadow: 0px 1px 3px 1px rgba(0, 0, 0, 0.15);\n",
              "      filter: drop-shadow(0px 1px 2px rgba(0, 0, 0, 0.3));\n",
              "      fill: #FFFFFF;\n",
              "    }\n",
              "  </style>\n",
              "\n",
              "    <script>\n",
              "      const buttonEl =\n",
              "        document.querySelector('#df-fbdc73d8-bdf0-40e2-894c-ea8bc8a2a4b1 button.colab-df-convert');\n",
              "      buttonEl.style.display =\n",
              "        google.colab.kernel.accessAllowed ? 'block' : 'none';\n",
              "\n",
              "      async function convertToInteractive(key) {\n",
              "        const element = document.querySelector('#df-fbdc73d8-bdf0-40e2-894c-ea8bc8a2a4b1');\n",
              "        const dataTable =\n",
              "          await google.colab.kernel.invokeFunction('convertToInteractive',\n",
              "                                                    [key], {});\n",
              "        if (!dataTable) return;\n",
              "\n",
              "        const docLinkHtml = 'Like what you see? Visit the ' +\n",
              "          '<a target=\"_blank\" href=https://colab.research.google.com/notebooks/data_table.ipynb>data table notebook</a>'\n",
              "          + ' to learn more about interactive tables.';\n",
              "        element.innerHTML = '';\n",
              "        dataTable['output_type'] = 'display_data';\n",
              "        await google.colab.output.renderOutput(dataTable, element);\n",
              "        const docLink = document.createElement('div');\n",
              "        docLink.innerHTML = docLinkHtml;\n",
              "        element.appendChild(docLink);\n",
              "      }\n",
              "    </script>\n",
              "  </div>\n",
              "\n",
              "\n",
              "<div id=\"df-925d7df5-31f3-4208-bb0d-77d5ed3e565f\">\n",
              "  <button class=\"colab-df-quickchart\" onclick=\"quickchart('df-925d7df5-31f3-4208-bb0d-77d5ed3e565f')\"\n",
              "            title=\"Suggest charts\"\n",
              "            style=\"display:none;\">\n",
              "\n",
              "<svg xmlns=\"http://www.w3.org/2000/svg\" height=\"24px\"viewBox=\"0 0 24 24\"\n",
              "     width=\"24px\">\n",
              "    <g>\n",
              "        <path d=\"M19 3H5c-1.1 0-2 .9-2 2v14c0 1.1.9 2 2 2h14c1.1 0 2-.9 2-2V5c0-1.1-.9-2-2-2zM9 17H7v-7h2v7zm4 0h-2V7h2v10zm4 0h-2v-4h2v4z\"/>\n",
              "    </g>\n",
              "</svg>\n",
              "  </button>\n",
              "\n",
              "<style>\n",
              "  .colab-df-quickchart {\n",
              "      --bg-color: #E8F0FE;\n",
              "      --fill-color: #1967D2;\n",
              "      --hover-bg-color: #E2EBFA;\n",
              "      --hover-fill-color: #174EA6;\n",
              "      --disabled-fill-color: #AAA;\n",
              "      --disabled-bg-color: #DDD;\n",
              "  }\n",
              "\n",
              "  [theme=dark] .colab-df-quickchart {\n",
              "      --bg-color: #3B4455;\n",
              "      --fill-color: #D2E3FC;\n",
              "      --hover-bg-color: #434B5C;\n",
              "      --hover-fill-color: #FFFFFF;\n",
              "      --disabled-bg-color: #3B4455;\n",
              "      --disabled-fill-color: #666;\n",
              "  }\n",
              "\n",
              "  .colab-df-quickchart {\n",
              "    background-color: var(--bg-color);\n",
              "    border: none;\n",
              "    border-radius: 50%;\n",
              "    cursor: pointer;\n",
              "    display: none;\n",
              "    fill: var(--fill-color);\n",
              "    height: 32px;\n",
              "    padding: 0;\n",
              "    width: 32px;\n",
              "  }\n",
              "\n",
              "  .colab-df-quickchart:hover {\n",
              "    background-color: var(--hover-bg-color);\n",
              "    box-shadow: 0 1px 2px rgba(60, 64, 67, 0.3), 0 1px 3px 1px rgba(60, 64, 67, 0.15);\n",
              "    fill: var(--button-hover-fill-color);\n",
              "  }\n",
              "\n",
              "  .colab-df-quickchart-complete:disabled,\n",
              "  .colab-df-quickchart-complete:disabled:hover {\n",
              "    background-color: var(--disabled-bg-color);\n",
              "    fill: var(--disabled-fill-color);\n",
              "    box-shadow: none;\n",
              "  }\n",
              "\n",
              "  .colab-df-spinner {\n",
              "    border: 2px solid var(--fill-color);\n",
              "    border-color: transparent;\n",
              "    border-bottom-color: var(--fill-color);\n",
              "    animation:\n",
              "      spin 1s steps(1) infinite;\n",
              "  }\n",
              "\n",
              "  @keyframes spin {\n",
              "    0% {\n",
              "      border-color: transparent;\n",
              "      border-bottom-color: var(--fill-color);\n",
              "      border-left-color: var(--fill-color);\n",
              "    }\n",
              "    20% {\n",
              "      border-color: transparent;\n",
              "      border-left-color: var(--fill-color);\n",
              "      border-top-color: var(--fill-color);\n",
              "    }\n",
              "    30% {\n",
              "      border-color: transparent;\n",
              "      border-left-color: var(--fill-color);\n",
              "      border-top-color: var(--fill-color);\n",
              "      border-right-color: var(--fill-color);\n",
              "    }\n",
              "    40% {\n",
              "      border-color: transparent;\n",
              "      border-right-color: var(--fill-color);\n",
              "      border-top-color: var(--fill-color);\n",
              "    }\n",
              "    60% {\n",
              "      border-color: transparent;\n",
              "      border-right-color: var(--fill-color);\n",
              "    }\n",
              "    80% {\n",
              "      border-color: transparent;\n",
              "      border-right-color: var(--fill-color);\n",
              "      border-bottom-color: var(--fill-color);\n",
              "    }\n",
              "    90% {\n",
              "      border-color: transparent;\n",
              "      border-bottom-color: var(--fill-color);\n",
              "    }\n",
              "  }\n",
              "</style>\n",
              "\n",
              "  <script>\n",
              "    async function quickchart(key) {\n",
              "      const quickchartButtonEl =\n",
              "        document.querySelector('#' + key + ' button');\n",
              "      quickchartButtonEl.disabled = true;  // To prevent multiple clicks.\n",
              "      quickchartButtonEl.classList.add('colab-df-spinner');\n",
              "      try {\n",
              "        const charts = await google.colab.kernel.invokeFunction(\n",
              "            'suggestCharts', [key], {});\n",
              "      } catch (error) {\n",
              "        console.error('Error during call to suggestCharts:', error);\n",
              "      }\n",
              "      quickchartButtonEl.classList.remove('colab-df-spinner');\n",
              "      quickchartButtonEl.classList.add('colab-df-quickchart-complete');\n",
              "    }\n",
              "    (() => {\n",
              "      let quickchartButtonEl =\n",
              "        document.querySelector('#df-925d7df5-31f3-4208-bb0d-77d5ed3e565f button');\n",
              "      quickchartButtonEl.style.display =\n",
              "        google.colab.kernel.accessAllowed ? 'block' : 'none';\n",
              "    })();\n",
              "  </script>\n",
              "</div>\n",
              "\n",
              "    </div>\n",
              "  </div>\n"
            ],
            "application/vnd.google.colaboratory.intrinsic+json": {
              "type": "dataframe",
              "variable_name": "df",
              "summary": "{\n  \"name\": \"df\",\n  \"rows\": 1061,\n  \"fields\": [\n    {\n      \"column\": \"name\",\n      \"properties\": {\n        \"dtype\": \"category\",\n        \"num_unique_values\": 279,\n        \"samples\": [\n          \"Hero Xtreme Sports\",\n          \"Hero Honda Passion\",\n          \"TVS Streak\"\n        ],\n        \"semantic_type\": \"\",\n        \"description\": \"\"\n      }\n    },\n    {\n      \"column\": \"selling_price\",\n      \"properties\": {\n        \"dtype\": \"number\",\n        \"std\": 56304,\n        \"min\": 5000,\n        \"max\": 760000,\n        \"num_unique_values\": 130,\n        \"samples\": [\n          72000,\n          160000,\n          26000\n        ],\n        \"semantic_type\": \"\",\n        \"description\": \"\"\n      }\n    },\n    {\n      \"column\": \"year\",\n      \"properties\": {\n        \"dtype\": \"number\",\n        \"std\": 4,\n        \"min\": 1988,\n        \"max\": 2020,\n        \"num_unique_values\": 28,\n        \"samples\": [\n          2012,\n          2003,\n          2020\n        ],\n        \"semantic_type\": \"\",\n        \"description\": \"\"\n      }\n    },\n    {\n      \"column\": \"seller_type\",\n      \"properties\": {\n        \"dtype\": \"category\",\n        \"num_unique_values\": 2,\n        \"samples\": [\n          \"Dealer\",\n          \"Individual\"\n        ],\n        \"semantic_type\": \"\",\n        \"description\": \"\"\n      }\n    },\n    {\n      \"column\": \"owner\",\n      \"properties\": {\n        \"dtype\": \"category\",\n        \"num_unique_values\": 4,\n        \"samples\": [\n          \"2nd owner\",\n          \"4th owner\"\n        ],\n        \"semantic_type\": \"\",\n        \"description\": \"\"\n      }\n    },\n    {\n      \"column\": \"km_driven\",\n      \"properties\": {\n        \"dtype\": \"number\",\n        \"std\": 51623,\n        \"min\": 350,\n        \"max\": 880000,\n        \"num_unique_values\": 304,\n        \"samples\": [\n          19500,\n          11500\n        ],\n        \"semantic_type\": \"\",\n        \"description\": \"\"\n      }\n    },\n    {\n      \"column\": \"ex_showroom_price\",\n      \"properties\": {\n        \"dtype\": \"number\",\n        \"std\": 77496.5871894531,\n        \"min\": 30490.0,\n        \"max\": 1278000.0,\n        \"num_unique_values\": 230,\n        \"samples\": [\n          54000.0,\n          64589.0\n        ],\n        \"semantic_type\": \"\",\n        \"description\": \"\"\n      }\n    }\n  ]\n}"
            }
          },
          "metadata": {},
          "execution_count": 2
        }
      ]
    },
    {
      "cell_type": "code",
      "source": [
        "df.info()"
      ],
      "metadata": {
        "colab": {
          "base_uri": "https://localhost:8080/"
        },
        "id": "XZv60ZVQaTqQ",
        "outputId": "b3301fdb-5718-47eb-cf04-7860ff1bbf82"
      },
      "execution_count": null,
      "outputs": [
        {
          "output_type": "stream",
          "name": "stdout",
          "text": [
            "<class 'pandas.core.frame.DataFrame'>\n",
            "RangeIndex: 1061 entries, 0 to 1060\n",
            "Data columns (total 7 columns):\n",
            " #   Column             Non-Null Count  Dtype  \n",
            "---  ------             --------------  -----  \n",
            " 0   name               1061 non-null   object \n",
            " 1   selling_price      1061 non-null   int64  \n",
            " 2   year               1061 non-null   int64  \n",
            " 3   seller_type        1061 non-null   object \n",
            " 4   owner              1061 non-null   object \n",
            " 5   km_driven          1061 non-null   int64  \n",
            " 6   ex_showroom_price  626 non-null    float64\n",
            "dtypes: float64(1), int64(3), object(3)\n",
            "memory usage: 58.1+ KB\n"
          ]
        }
      ]
    },
    {
      "cell_type": "code",
      "source": [
        "df.shape"
      ],
      "metadata": {
        "colab": {
          "base_uri": "https://localhost:8080/"
        },
        "id": "AKeHwU9yaVh0",
        "outputId": "3bf464db-0b35-4298-d065-143af33a05f9"
      },
      "execution_count": null,
      "outputs": [
        {
          "output_type": "execute_result",
          "data": {
            "text/plain": [
              "(1061, 7)"
            ]
          },
          "metadata": {},
          "execution_count": 4
        }
      ]
    },
    {
      "cell_type": "code",
      "source": [
        "df.describe()"
      ],
      "metadata": {
        "colab": {
          "base_uri": "https://localhost:8080/",
          "height": 300
        },
        "id": "nv2GKH9ZaY3D",
        "outputId": "dc8eb9b1-f7fb-4601-8deb-2c68d4e82572"
      },
      "execution_count": null,
      "outputs": [
        {
          "output_type": "execute_result",
          "data": {
            "text/plain": [
              "       selling_price         year      km_driven  ex_showroom_price\n",
              "count    1061.000000  1061.000000    1061.000000       6.260000e+02\n",
              "mean    59638.151744  2013.867107   34359.833176       8.795871e+04\n",
              "std     56304.291973     4.301191   51623.152702       7.749659e+04\n",
              "min      5000.000000  1988.000000     350.000000       3.049000e+04\n",
              "25%     28000.000000  2011.000000   13500.000000       5.485200e+04\n",
              "50%     45000.000000  2015.000000   25000.000000       7.275250e+04\n",
              "75%     70000.000000  2017.000000   43000.000000       8.703150e+04\n",
              "max    760000.000000  2020.000000  880000.000000       1.278000e+06"
            ],
            "text/html": [
              "\n",
              "  <div id=\"df-689b8131-cc09-493f-a8b2-263ef2c4ac92\" class=\"colab-df-container\">\n",
              "    <div>\n",
              "<style scoped>\n",
              "    .dataframe tbody tr th:only-of-type {\n",
              "        vertical-align: middle;\n",
              "    }\n",
              "\n",
              "    .dataframe tbody tr th {\n",
              "        vertical-align: top;\n",
              "    }\n",
              "\n",
              "    .dataframe thead th {\n",
              "        text-align: right;\n",
              "    }\n",
              "</style>\n",
              "<table border=\"1\" class=\"dataframe\">\n",
              "  <thead>\n",
              "    <tr style=\"text-align: right;\">\n",
              "      <th></th>\n",
              "      <th>selling_price</th>\n",
              "      <th>year</th>\n",
              "      <th>km_driven</th>\n",
              "      <th>ex_showroom_price</th>\n",
              "    </tr>\n",
              "  </thead>\n",
              "  <tbody>\n",
              "    <tr>\n",
              "      <th>count</th>\n",
              "      <td>1061.000000</td>\n",
              "      <td>1061.000000</td>\n",
              "      <td>1061.000000</td>\n",
              "      <td>6.260000e+02</td>\n",
              "    </tr>\n",
              "    <tr>\n",
              "      <th>mean</th>\n",
              "      <td>59638.151744</td>\n",
              "      <td>2013.867107</td>\n",
              "      <td>34359.833176</td>\n",
              "      <td>8.795871e+04</td>\n",
              "    </tr>\n",
              "    <tr>\n",
              "      <th>std</th>\n",
              "      <td>56304.291973</td>\n",
              "      <td>4.301191</td>\n",
              "      <td>51623.152702</td>\n",
              "      <td>7.749659e+04</td>\n",
              "    </tr>\n",
              "    <tr>\n",
              "      <th>min</th>\n",
              "      <td>5000.000000</td>\n",
              "      <td>1988.000000</td>\n",
              "      <td>350.000000</td>\n",
              "      <td>3.049000e+04</td>\n",
              "    </tr>\n",
              "    <tr>\n",
              "      <th>25%</th>\n",
              "      <td>28000.000000</td>\n",
              "      <td>2011.000000</td>\n",
              "      <td>13500.000000</td>\n",
              "      <td>5.485200e+04</td>\n",
              "    </tr>\n",
              "    <tr>\n",
              "      <th>50%</th>\n",
              "      <td>45000.000000</td>\n",
              "      <td>2015.000000</td>\n",
              "      <td>25000.000000</td>\n",
              "      <td>7.275250e+04</td>\n",
              "    </tr>\n",
              "    <tr>\n",
              "      <th>75%</th>\n",
              "      <td>70000.000000</td>\n",
              "      <td>2017.000000</td>\n",
              "      <td>43000.000000</td>\n",
              "      <td>8.703150e+04</td>\n",
              "    </tr>\n",
              "    <tr>\n",
              "      <th>max</th>\n",
              "      <td>760000.000000</td>\n",
              "      <td>2020.000000</td>\n",
              "      <td>880000.000000</td>\n",
              "      <td>1.278000e+06</td>\n",
              "    </tr>\n",
              "  </tbody>\n",
              "</table>\n",
              "</div>\n",
              "    <div class=\"colab-df-buttons\">\n",
              "\n",
              "  <div class=\"colab-df-container\">\n",
              "    <button class=\"colab-df-convert\" onclick=\"convertToInteractive('df-689b8131-cc09-493f-a8b2-263ef2c4ac92')\"\n",
              "            title=\"Convert this dataframe to an interactive table.\"\n",
              "            style=\"display:none;\">\n",
              "\n",
              "  <svg xmlns=\"http://www.w3.org/2000/svg\" height=\"24px\" viewBox=\"0 -960 960 960\">\n",
              "    <path d=\"M120-120v-720h720v720H120Zm60-500h600v-160H180v160Zm220 220h160v-160H400v160Zm0 220h160v-160H400v160ZM180-400h160v-160H180v160Zm440 0h160v-160H620v160ZM180-180h160v-160H180v160Zm440 0h160v-160H620v160Z\"/>\n",
              "  </svg>\n",
              "    </button>\n",
              "\n",
              "  <style>\n",
              "    .colab-df-container {\n",
              "      display:flex;\n",
              "      gap: 12px;\n",
              "    }\n",
              "\n",
              "    .colab-df-convert {\n",
              "      background-color: #E8F0FE;\n",
              "      border: none;\n",
              "      border-radius: 50%;\n",
              "      cursor: pointer;\n",
              "      display: none;\n",
              "      fill: #1967D2;\n",
              "      height: 32px;\n",
              "      padding: 0 0 0 0;\n",
              "      width: 32px;\n",
              "    }\n",
              "\n",
              "    .colab-df-convert:hover {\n",
              "      background-color: #E2EBFA;\n",
              "      box-shadow: 0px 1px 2px rgba(60, 64, 67, 0.3), 0px 1px 3px 1px rgba(60, 64, 67, 0.15);\n",
              "      fill: #174EA6;\n",
              "    }\n",
              "\n",
              "    .colab-df-buttons div {\n",
              "      margin-bottom: 4px;\n",
              "    }\n",
              "\n",
              "    [theme=dark] .colab-df-convert {\n",
              "      background-color: #3B4455;\n",
              "      fill: #D2E3FC;\n",
              "    }\n",
              "\n",
              "    [theme=dark] .colab-df-convert:hover {\n",
              "      background-color: #434B5C;\n",
              "      box-shadow: 0px 1px 3px 1px rgba(0, 0, 0, 0.15);\n",
              "      filter: drop-shadow(0px 1px 2px rgba(0, 0, 0, 0.3));\n",
              "      fill: #FFFFFF;\n",
              "    }\n",
              "  </style>\n",
              "\n",
              "    <script>\n",
              "      const buttonEl =\n",
              "        document.querySelector('#df-689b8131-cc09-493f-a8b2-263ef2c4ac92 button.colab-df-convert');\n",
              "      buttonEl.style.display =\n",
              "        google.colab.kernel.accessAllowed ? 'block' : 'none';\n",
              "\n",
              "      async function convertToInteractive(key) {\n",
              "        const element = document.querySelector('#df-689b8131-cc09-493f-a8b2-263ef2c4ac92');\n",
              "        const dataTable =\n",
              "          await google.colab.kernel.invokeFunction('convertToInteractive',\n",
              "                                                    [key], {});\n",
              "        if (!dataTable) return;\n",
              "\n",
              "        const docLinkHtml = 'Like what you see? Visit the ' +\n",
              "          '<a target=\"_blank\" href=https://colab.research.google.com/notebooks/data_table.ipynb>data table notebook</a>'\n",
              "          + ' to learn more about interactive tables.';\n",
              "        element.innerHTML = '';\n",
              "        dataTable['output_type'] = 'display_data';\n",
              "        await google.colab.output.renderOutput(dataTable, element);\n",
              "        const docLink = document.createElement('div');\n",
              "        docLink.innerHTML = docLinkHtml;\n",
              "        element.appendChild(docLink);\n",
              "      }\n",
              "    </script>\n",
              "  </div>\n",
              "\n",
              "\n",
              "<div id=\"df-3af37959-e99c-4455-89cf-8cf668d4cd0b\">\n",
              "  <button class=\"colab-df-quickchart\" onclick=\"quickchart('df-3af37959-e99c-4455-89cf-8cf668d4cd0b')\"\n",
              "            title=\"Suggest charts\"\n",
              "            style=\"display:none;\">\n",
              "\n",
              "<svg xmlns=\"http://www.w3.org/2000/svg\" height=\"24px\"viewBox=\"0 0 24 24\"\n",
              "     width=\"24px\">\n",
              "    <g>\n",
              "        <path d=\"M19 3H5c-1.1 0-2 .9-2 2v14c0 1.1.9 2 2 2h14c1.1 0 2-.9 2-2V5c0-1.1-.9-2-2-2zM9 17H7v-7h2v7zm4 0h-2V7h2v10zm4 0h-2v-4h2v4z\"/>\n",
              "    </g>\n",
              "</svg>\n",
              "  </button>\n",
              "\n",
              "<style>\n",
              "  .colab-df-quickchart {\n",
              "      --bg-color: #E8F0FE;\n",
              "      --fill-color: #1967D2;\n",
              "      --hover-bg-color: #E2EBFA;\n",
              "      --hover-fill-color: #174EA6;\n",
              "      --disabled-fill-color: #AAA;\n",
              "      --disabled-bg-color: #DDD;\n",
              "  }\n",
              "\n",
              "  [theme=dark] .colab-df-quickchart {\n",
              "      --bg-color: #3B4455;\n",
              "      --fill-color: #D2E3FC;\n",
              "      --hover-bg-color: #434B5C;\n",
              "      --hover-fill-color: #FFFFFF;\n",
              "      --disabled-bg-color: #3B4455;\n",
              "      --disabled-fill-color: #666;\n",
              "  }\n",
              "\n",
              "  .colab-df-quickchart {\n",
              "    background-color: var(--bg-color);\n",
              "    border: none;\n",
              "    border-radius: 50%;\n",
              "    cursor: pointer;\n",
              "    display: none;\n",
              "    fill: var(--fill-color);\n",
              "    height: 32px;\n",
              "    padding: 0;\n",
              "    width: 32px;\n",
              "  }\n",
              "\n",
              "  .colab-df-quickchart:hover {\n",
              "    background-color: var(--hover-bg-color);\n",
              "    box-shadow: 0 1px 2px rgba(60, 64, 67, 0.3), 0 1px 3px 1px rgba(60, 64, 67, 0.15);\n",
              "    fill: var(--button-hover-fill-color);\n",
              "  }\n",
              "\n",
              "  .colab-df-quickchart-complete:disabled,\n",
              "  .colab-df-quickchart-complete:disabled:hover {\n",
              "    background-color: var(--disabled-bg-color);\n",
              "    fill: var(--disabled-fill-color);\n",
              "    box-shadow: none;\n",
              "  }\n",
              "\n",
              "  .colab-df-spinner {\n",
              "    border: 2px solid var(--fill-color);\n",
              "    border-color: transparent;\n",
              "    border-bottom-color: var(--fill-color);\n",
              "    animation:\n",
              "      spin 1s steps(1) infinite;\n",
              "  }\n",
              "\n",
              "  @keyframes spin {\n",
              "    0% {\n",
              "      border-color: transparent;\n",
              "      border-bottom-color: var(--fill-color);\n",
              "      border-left-color: var(--fill-color);\n",
              "    }\n",
              "    20% {\n",
              "      border-color: transparent;\n",
              "      border-left-color: var(--fill-color);\n",
              "      border-top-color: var(--fill-color);\n",
              "    }\n",
              "    30% {\n",
              "      border-color: transparent;\n",
              "      border-left-color: var(--fill-color);\n",
              "      border-top-color: var(--fill-color);\n",
              "      border-right-color: var(--fill-color);\n",
              "    }\n",
              "    40% {\n",
              "      border-color: transparent;\n",
              "      border-right-color: var(--fill-color);\n",
              "      border-top-color: var(--fill-color);\n",
              "    }\n",
              "    60% {\n",
              "      border-color: transparent;\n",
              "      border-right-color: var(--fill-color);\n",
              "    }\n",
              "    80% {\n",
              "      border-color: transparent;\n",
              "      border-right-color: var(--fill-color);\n",
              "      border-bottom-color: var(--fill-color);\n",
              "    }\n",
              "    90% {\n",
              "      border-color: transparent;\n",
              "      border-bottom-color: var(--fill-color);\n",
              "    }\n",
              "  }\n",
              "</style>\n",
              "\n",
              "  <script>\n",
              "    async function quickchart(key) {\n",
              "      const quickchartButtonEl =\n",
              "        document.querySelector('#' + key + ' button');\n",
              "      quickchartButtonEl.disabled = true;  // To prevent multiple clicks.\n",
              "      quickchartButtonEl.classList.add('colab-df-spinner');\n",
              "      try {\n",
              "        const charts = await google.colab.kernel.invokeFunction(\n",
              "            'suggestCharts', [key], {});\n",
              "      } catch (error) {\n",
              "        console.error('Error during call to suggestCharts:', error);\n",
              "      }\n",
              "      quickchartButtonEl.classList.remove('colab-df-spinner');\n",
              "      quickchartButtonEl.classList.add('colab-df-quickchart-complete');\n",
              "    }\n",
              "    (() => {\n",
              "      let quickchartButtonEl =\n",
              "        document.querySelector('#df-3af37959-e99c-4455-89cf-8cf668d4cd0b button');\n",
              "      quickchartButtonEl.style.display =\n",
              "        google.colab.kernel.accessAllowed ? 'block' : 'none';\n",
              "    })();\n",
              "  </script>\n",
              "</div>\n",
              "\n",
              "    </div>\n",
              "  </div>\n"
            ],
            "application/vnd.google.colaboratory.intrinsic+json": {
              "type": "dataframe",
              "summary": "{\n  \"name\": \"df\",\n  \"rows\": 8,\n  \"fields\": [\n    {\n      \"column\": \"selling_price\",\n      \"properties\": {\n        \"dtype\": \"number\",\n        \"std\": 256552.1391466637,\n        \"min\": 1061.0,\n        \"max\": 760000.0,\n        \"num_unique_values\": 8,\n        \"samples\": [\n          59638.151743638075,\n          45000.0,\n          1061.0\n        ],\n        \"semantic_type\": \"\",\n        \"description\": \"\"\n      }\n    },\n    {\n      \"column\": \"year\",\n      \"properties\": {\n        \"dtype\": \"number\",\n        \"std\": 740.3101938279908,\n        \"min\": 4.301191368192789,\n        \"max\": 2020.0,\n        \"num_unique_values\": 8,\n        \"samples\": [\n          2013.8671065032988,\n          2015.0,\n          1061.0\n        ],\n        \"semantic_type\": \"\",\n        \"description\": \"\"\n      }\n    },\n    {\n      \"column\": \"km_driven\",\n      \"properties\": {\n        \"dtype\": \"number\",\n        \"std\": 303169.14704746514,\n        \"min\": 350.0,\n        \"max\": 880000.0,\n        \"num_unique_values\": 8,\n        \"samples\": [\n          34359.83317624882,\n          25000.0,\n          1061.0\n        ],\n        \"semantic_type\": \"\",\n        \"description\": \"\"\n      }\n    },\n    {\n      \"column\": \"ex_showroom_price\",\n      \"properties\": {\n        \"dtype\": \"number\",\n        \"std\": 432130.1019716016,\n        \"min\": 626.0,\n        \"max\": 1278000.0,\n        \"num_unique_values\": 8,\n        \"samples\": [\n          87958.71405750798,\n          72752.5,\n          626.0\n        ],\n        \"semantic_type\": \"\",\n        \"description\": \"\"\n      }\n    }\n  ]\n}"
            }
          },
          "metadata": {},
          "execution_count": 5
        }
      ]
    },
    {
      "cell_type": "code",
      "source": [
        "df.isnull().sum()"
      ],
      "metadata": {
        "colab": {
          "base_uri": "https://localhost:8080/"
        },
        "id": "XAVlhZ2uacSe",
        "outputId": "f57ac75c-9853-4851-a556-6d90b99ca75c"
      },
      "execution_count": null,
      "outputs": [
        {
          "output_type": "execute_result",
          "data": {
            "text/plain": [
              "name                   0\n",
              "selling_price          0\n",
              "year                   0\n",
              "seller_type            0\n",
              "owner                  0\n",
              "km_driven              0\n",
              "ex_showroom_price    435\n",
              "dtype: int64"
            ]
          },
          "metadata": {},
          "execution_count": 6
        }
      ]
    },
    {
      "cell_type": "code",
      "source": [
        "df.drop(['owner', 'name','seller_type'], axis=1, inplace=True)"
      ],
      "metadata": {
        "id": "rnggrle-Bubi"
      },
      "execution_count": null,
      "outputs": []
    },
    {
      "cell_type": "code",
      "source": [
        "df.info()"
      ],
      "metadata": {
        "colab": {
          "base_uri": "https://localhost:8080/"
        },
        "id": "QqWiE4mDCVGR",
        "outputId": "d7ca4b07-36e6-452e-ade9-3247df3e620e"
      },
      "execution_count": null,
      "outputs": [
        {
          "output_type": "stream",
          "name": "stdout",
          "text": [
            "<class 'pandas.core.frame.DataFrame'>\n",
            "RangeIndex: 1061 entries, 0 to 1060\n",
            "Data columns (total 4 columns):\n",
            " #   Column             Non-Null Count  Dtype  \n",
            "---  ------             --------------  -----  \n",
            " 0   selling_price      1061 non-null   int64  \n",
            " 1   year               1061 non-null   int64  \n",
            " 2   km_driven          1061 non-null   int64  \n",
            " 3   ex_showroom_price  1061 non-null   float64\n",
            "dtypes: float64(1), int64(3)\n",
            "memory usage: 33.3 KB\n"
          ]
        }
      ]
    },
    {
      "cell_type": "code",
      "source": [
        "df['ex_showroom_price'].fillna(df['ex_showroom_price'].mean(),inplace=True)\n",
        "df['ex_showroom_price'].unique()"
      ],
      "metadata": {
        "colab": {
          "base_uri": "https://localhost:8080/"
        },
        "id": "3qJu2oazau-P",
        "outputId": "07f428e2-5dcd-4474-aece-1c4f3d124530"
      },
      "execution_count": null,
      "outputs": [
        {
          "output_type": "execute_result",
          "data": {
            "text/plain": [
              "array([  87958.71405751,  148114.        ,   89643.        ,\n",
              "         53857.        ,   87719.        ,   60122.        ,\n",
              "         78712.        ,   47255.        ,   95955.        ,\n",
              "        351680.        ,   58314.        ,  117926.        ,\n",
              "        132680.        ,   44389.        ,   53900.        ,\n",
              "         56147.        ,   84751.        ,   61600.        ,\n",
              "         79432.        ,   78350.        ,   71049.        ,\n",
              "         57557.        ,  202310.        ,   71150.        ,\n",
              "         56750.        ,   84042.        ,   69750.        ,\n",
              "         59844.        ,   42859.        ,   73413.        ,\n",
              "         49900.        ,   59422.        ,   57549.        ,\n",
              "         51994.        ,   80350.        ,   54605.        ,\n",
              "         88161.        ,   78513.        ,   50098.        ,\n",
              "        195500.        ,   92074.        ,  164004.        ,\n",
              "         74295.        ,   49642.        ,   51112.        ,\n",
              "         53751.        ,   50267.        ,   61653.        ,\n",
              "         70851.        ,   53079.        ,  133680.        ,\n",
              "        181445.        ,   65626.        ,   58438.        ,\n",
              "         61118.        ,   75936.        ,  180525.        ,\n",
              "         87543.        ,   80435.        ,   85011.        ,\n",
              "       1278000.        ,  155740.        ,  202127.        ,\n",
              "         86744.        ,  156304.        ,   84246.        ,\n",
              "         49521.        ,   64589.        ,   69983.        ,\n",
              "         54299.        ,   72303.        ,   65800.        ,\n",
              "         58757.        ,   47032.        ,   79233.        ,\n",
              "        118997.        ,   52949.        ,   64071.        ,\n",
              "         61545.        ,  168482.        ,  163331.        ,\n",
              "         59095.        ,   75502.        ,   52271.        ,\n",
              "         63331.        ,   52372.        ,   58630.        ,\n",
              "         94703.        ,   53436.        ,   59183.        ,\n",
              "         56925.        ,   55980.        ,   52790.        ,\n",
              "         81508.        ,  199275.        ,   87042.        ,\n",
              "        107500.        ,   67187.        ,   67214.        ,\n",
              "         49412.        ,  599000.        ,  317934.        ,\n",
              "         54760.        ,  171646.        ,  752020.        ,\n",
              "         67469.        ,   78316.        ,   44140.        ,\n",
              "        534000.        ,   72973.        ,   57112.        ,\n",
              "         54500.        ,   66492.        ,  349000.        ,\n",
              "        190874.        ,   80821.        ,   51600.        ,\n",
              "         63537.        ,   67722.        ,   77900.        ,\n",
              "         55600.        ,   53830.        ,   84480.        ,\n",
              "         54580.        ,   54852.        ,   44756.        ,\n",
              "         50280.        ,  204977.        ,   71757.        ,\n",
              "         54593.        ,  110240.        ,   54586.        ,\n",
              "         85766.        ,  108000.        ,  189313.        ,\n",
              "         47343.        ,   92210.        ,   63180.        ,\n",
              "         93400.        ,  164095.        ,   71681.        ,\n",
              "         44493.        ,   54475.        ,   54080.        ,\n",
              "         83437.        ,   64750.        ,   76572.        ,\n",
              "         96500.        ,   49211.        ,   76632.        ,\n",
              "        142680.        ,   66697.        ,  129662.        ,\n",
              "         77545.        ,   57241.        ,   51685.        ,\n",
              "         47108.        ,   82813.        ,  103170.        ,\n",
              "         72492.        ,   44814.        ,   54253.        ,\n",
              "         51185.        ,   49600.        ,   92661.        ,\n",
              "         52710.        ,   72532.        ,   49146.        ,\n",
              "         58900.        ,   53415.        ,  132513.        ,\n",
              "         59640.        ,   57957.        ,   49150.        ,\n",
              "         58906.        ,  146400.        ,   62317.        ,\n",
              "         30490.        ,  589000.        ,  170994.        ,\n",
              "        198605.        ,  208902.        ,   46779.        ,\n",
              "        360000.        ,   37675.        ,   47186.        ,\n",
              "         46575.        ,   83340.        ,   65599.        ,\n",
              "        190000.        ,  182000.        ,  178000.        ,\n",
              "        160000.        ,  147000.        ,  237000.        ,\n",
              "        345000.        ,  150000.        ,  240000.        ,\n",
              "        140000.        ,  126000.        ,  117000.        ,\n",
              "        175000.        ,   95000.        ,   80000.        ,\n",
              "         87000.        ,   84000.        ,   82000.        ,\n",
              "         81000.        ,   74000.        ,  120000.        ,\n",
              "         78700.        ,   99000.        ,   94000.        ,\n",
              "         82600.        ,   55000.        ,   88000.        ,\n",
              "         51000.        ,   52000.        ,   54000.        ,\n",
              "         73000.        ,   83000.        ,   64000.        ,\n",
              "         72000.        ,  105000.        ,   57000.        ,\n",
              "         48000.        ,   58000.        ,   47000.        ,\n",
              "         75000.        ,   65000.        ,   32000.        ])"
            ]
          },
          "metadata": {},
          "execution_count": 7
        }
      ]
    },
    {
      "cell_type": "code",
      "source": [
        "df.isnull().sum()"
      ],
      "metadata": {
        "colab": {
          "base_uri": "https://localhost:8080/"
        },
        "id": "L7qgJAGrbsLF",
        "outputId": "9375b9a5-1c64-4dfc-f024-5e0cc3785dc8"
      },
      "execution_count": null,
      "outputs": [
        {
          "output_type": "execute_result",
          "data": {
            "text/plain": [
              "name                 0\n",
              "selling_price        0\n",
              "year                 0\n",
              "seller_type          0\n",
              "owner                0\n",
              "km_driven            0\n",
              "ex_showroom_price    0\n",
              "dtype: int64"
            ]
          },
          "metadata": {},
          "execution_count": 8
        }
      ]
    },
    {
      "cell_type": "code",
      "source": [
        "df.columns"
      ],
      "metadata": {
        "colab": {
          "base_uri": "https://localhost:8080/"
        },
        "id": "tmEyWfSfdJ2Y",
        "outputId": "0bc6f60b-aa1c-46a3-f8bf-7371becf9c4d"
      },
      "execution_count": null,
      "outputs": [
        {
          "output_type": "execute_result",
          "data": {
            "text/plain": [
              "Index(['name', 'selling_price', 'year', 'seller_type', 'owner', 'km_driven',\n",
              "       'ex_showroom_price'],\n",
              "      dtype='object')"
            ]
          },
          "metadata": {},
          "execution_count": 22
        }
      ]
    },
    {
      "cell_type": "code",
      "source": [
        "plt.figure()\n",
        "sns.scatterplot(data=df,y=\"selling_price\",x=\"ex_showroom_price\")\n",
        "plt.show()"
      ],
      "metadata": {
        "colab": {
          "base_uri": "https://localhost:8080/",
          "height": 450
        },
        "id": "RQj0sNsjAu4J",
        "outputId": "4af505fb-a7bc-4244-95f3-60b672154cd3"
      },
      "execution_count": null,
      "outputs": [
        {
          "output_type": "display_data",
          "data": {
            "text/plain": [
              "<Figure size 640x480 with 1 Axes>"
            ],
            "image/png": "[encoded data removed]"
          },
          "metadata": {}
        }
      ]
    },
    {
      "cell_type": "code",
      "source": [
        "plt.figure()\n",
        "sns.heatmap(df.corr(),annot=True)\n",
        "plt.show()"
      ],
      "metadata": {
        "colab": {
          "base_uri": "https://localhost:8080/",
          "height": 541
        },
        "id": "iS8FHJkgA5tF",
        "outputId": "ba018bd5-b197-407c-d764-4a03796ef6c4"
      },
      "execution_count": null,
      "outputs": [
        {
          "output_type": "display_data",
          "data": {
            "text/plain": [
              "<Figure size 640x480 with 2 Axes>"
            ],
            "image/png": "[encoded data removed]"
          },
          "metadata": {}
        }
      ]
    },
    {
      "cell_type": "code",
      "source": [
        "X=df['selling_price']#feature\n",
        "Y=df['ex_showroom_price']#target"
      ],
      "metadata": {
        "id": "oSnHvcR2CgdF"
      },
      "execution_count": null,
      "outputs": []
    },
    {
      "cell_type": "code",
      "source": [
        "#split dataset into train & test\n",
        "x_train,x_test,y_train,y_test=train_test_split(X,Y,test_size=0.3,random_state=1 )"
      ],
      "metadata": {
        "id": "EP0FycZCCzzJ"
      },
      "execution_count": null,
      "outputs": []
    },
    {
      "cell_type": "code",
      "source": [
        "#Linear Regression Model\n",
        "lr=LinearRegression()"
      ],
      "metadata": {
        "id": "zD69qn9ADXly"
      },
      "execution_count": null,
      "outputs": []
    },
    {
      "cell_type": "code",
      "source": [
        "lr.fit(np.array(x_train).reshape(-1,1),y_train)"
      ],
      "metadata": {
        "colab": {
          "base_uri": "https://localhost:8080/",
          "height": 74
        },
        "id": "v292DblaC26H",
        "outputId": "06663a16-956c-49be-f855-0c2e3f8ec12b"
      },
      "execution_count": null,
      "outputs": [
        {
          "output_type": "execute_result",
          "data": {
            "text/plain": [
              "LinearRegression()"
            ],
            "text/html": [
              "<style>#sk-container-id-1 {color: black;background-color: white;}#sk-container-id-1 pre{padding: 0;}#sk-container-id-1 div.sk-toggleable {background-color: white;}#sk-container-id-1 label.sk-toggleable__label {cursor: pointer;display: block;width: 100%;margin-bottom: 0;padding: 0.3em;box-sizing: border-box;text-align: center;}#sk-container-id-1 label.sk-toggleable__label-arrow:before {content: \"▸\";float: left;margin-right: 0.25em;color: #696969;}#sk-container-id-1 label.sk-toggleable__label-arrow:hover:before {color: black;}#sk-container-id-1 div.sk-estimator:hover label.sk-toggleable__label-arrow:before {color: black;}#sk-container-id-1 div.sk-toggleable__content {max-height: 0;max-width: 0;overflow: hidden;text-align: left;background-color: #f0f8ff;}#sk-container-id-1 div.sk-toggleable__content pre {margin: 0.2em;color: black;border-radius: 0.25em;background-color: #f0f8ff;}#sk-container-id-1 input.sk-toggleable__control:checked~div.sk-toggleable__content {max-height: 200px;max-width: 100%;overflow: auto;}#sk-container-id-1 input.sk-toggleable__control:checked~label.sk-toggleable__label-arrow:before {content: \"▾\";}#sk-container-id-1 div.sk-estimator input.sk-toggleable__control:checked~label.sk-toggleable__label {background-color: #d4ebff;}#sk-container-id-1 div.sk-label input.sk-toggleable__control:checked~label.sk-toggleable__label {background-color: #d4ebff;}#sk-container-id-1 input.sk-hidden--visually {border: 0;clip: rect(1px 1px 1px 1px);clip: rect(1px, 1px, 1px, 1px);height: 1px;margin: -1px;overflow: hidden;padding: 0;position: absolute;width: 1px;}#sk-container-id-1 div.sk-estimator {font-family: monospace;background-color: #f0f8ff;border: 1px dotted black;border-radius: 0.25em;box-sizing: border-box;margin-bottom: 0.5em;}#sk-container-id-1 div.sk-estimator:hover {background-color: #d4ebff;}#sk-container-id-1 div.sk-parallel-item::after {content: \"\";width: 100%;border-bottom: 1px solid gray;flex-grow: 1;}#sk-container-id-1 div.sk-label:hover label.sk-toggleable__label {background-color: #d4ebff;}#sk-container-id-1 div.sk-serial::before {content: \"\";position: absolute;border-left: 1px solid gray;box-sizing: border-box;top: 0;bottom: 0;left: 50%;z-index: 0;}#sk-container-id-1 div.sk-serial {display: flex;flex-direction: column;align-items: center;background-color: white;padding-right: 0.2em;padding-left: 0.2em;position: relative;}#sk-container-id-1 div.sk-item {position: relative;z-index: 1;}#sk-container-id-1 div.sk-parallel {display: flex;align-items: stretch;justify-content: center;background-color: white;position: relative;}#sk-container-id-1 div.sk-item::before, #sk-container-id-1 div.sk-parallel-item::before {content: \"\";position: absolute;border-left: 1px solid gray;box-sizing: border-box;top: 0;bottom: 0;left: 50%;z-index: -1;}#sk-container-id-1 div.sk-parallel-item {display: flex;flex-direction: column;z-index: 1;position: relative;background-color: white;}#sk-container-id-1 div.sk-parallel-item:first-child::after {align-self: flex-end;width: 50%;}#sk-container-id-1 div.sk-parallel-item:last-child::after {align-self: flex-start;width: 50%;}#sk-container-id-1 div.sk-parallel-item:only-child::after {width: 0;}#sk-container-id-1 div.sk-dashed-wrapped {border: 1px dashed gray;margin: 0 0.4em 0.5em 0.4em;box-sizing: border-box;padding-bottom: 0.4em;background-color: white;}#sk-container-id-1 div.sk-label label {font-family: monospace;font-weight: bold;display: inline-block;line-height: 1.2em;}#sk-container-id-1 div.sk-label-container {text-align: center;}#sk-container-id-1 div.sk-container {/* jupyter's `normalize.less` sets `[hidden] { display: none; }` but bootstrap.min.css set `[hidden] { display: none !important; }` so we also need the `!important` here to be able to override the default hidden behavior on the sphinx rendered scikit-learn.org. See: https://github.com/scikit-learn/scikit-learn/issues/21755 */display: inline-block !important;position: relative;}#sk-container-id-1 div.sk-text-repr-fallback {display: none;}</style><div id=\"sk-container-id-1\" class=\"sk-top-container\"><div class=\"sk-text-repr-fallback\"><pre>LinearRegression()</pre><b>In a Jupyter environment, please rerun this cell to show the HTML representation or trust the notebook. <br />On GitHub, the HTML representation is unable to render, please try loading this page with nbviewer.org.</b></div><div class=\"sk-container\" hidden><div class=\"sk-item\"><div class=\"sk-estimator sk-toggleable\"><input class=\"sk-toggleable__control sk-hidden--visually\" id=\"sk-estimator-id-1\" type=\"checkbox\" checked><label for=\"sk-estimator-id-1\" class=\"sk-toggleable__label sk-toggleable__label-arrow\">LinearRegression</label><div class=\"sk-toggleable__content\"><pre>LinearRegression()</pre></div></div></div></div></div>"
            ]
          },
          "metadata": {},
          "execution_count": 24
        }
      ]
    },
    {
      "cell_type": "code",
      "source": [
        "#intercept\n",
        "lr.intercept_"
      ],
      "metadata": {
        "colab": {
          "base_uri": "https://localhost:8080/"
        },
        "id": "-uHFdZIpDc2j",
        "outputId": "4e9e3b31-cb9b-4f60-9551-1b837e1bcfc4"
      },
      "execution_count": null,
      "outputs": [
        {
          "output_type": "execute_result",
          "data": {
            "text/plain": [
              "38280.641070804966"
            ]
          },
          "metadata": {},
          "execution_count": 25
        }
      ]
    },
    {
      "cell_type": "code",
      "source": [
        "#slope\n",
        "lr.coef_"
      ],
      "metadata": {
        "colab": {
          "base_uri": "https://localhost:8080/"
        },
        "id": "vST1nI6hDf6k",
        "outputId": "0c7d992d-bea7-401e-ec8d-a863d7e57300"
      },
      "execution_count": null,
      "outputs": [
        {
          "output_type": "execute_result",
          "data": {
            "text/plain": [
              "array([0.82796015])"
            ]
          },
          "metadata": {},
          "execution_count": 26
        }
      ]
    },
    {
      "cell_type": "code",
      "source": [
        "#calculating Ypredict\n",
        "y_pred=lr.predict(np.array(x_train).reshape(-1,1))\n",
        "y_pred"
      ],
      "metadata": {
        "colab": {
          "base_uri": "https://localhost:8080/"
        },
        "id": "8Ic3XINMDi3C",
        "outputId": "22041794-8818-45b1-8ee8-744d222793fa"
      },
      "execution_count": null,
      "outputs": [
        {
          "output_type": "execute_result",
          "data": {
            "text/plain": [
              "array([ 83818.44932713,  73054.96737564,  87958.25007771,  66431.28617472,\n",
              "       158334.86283749, 108657.25383058,  58979.64482368,  63119.44557426,\n",
              "        71399.04707541, 174894.06583979,  96237.85157886,  50700.04332253,\n",
              "        67259.24632483,  87958.25007771,  71399.04707541,  87958.25007771,\n",
              "       100377.65232943,  75538.84782598,  87958.25007771,  58979.64482368,\n",
              "        78021.90031618, 145915.46058576,  71399.04707541,  67259.24632483,\n",
              "        75538.84782598,  75538.84782598,  79678.64857656,  79678.64857656,\n",
              "        50700.04332253,  69743.12677518,  59807.6049738 ,  63119.44557426,\n",
              "        67259.24632483,  63119.44557426, 116936.85533173,  50700.04332253,\n",
              "        58979.64482368, 659250.75365709,  92098.05082828, 100377.65232943,\n",
              "        67259.24632483, 112797.05458116,  63119.44557426,  81334.56887679,\n",
              "        67259.24632483,  83818.44932713,  75538.84782598,  96237.85157886,\n",
              "        96237.85157886,  62705.4654992 , 141775.65983519,  58979.64482368,\n",
              "        79678.64857656,  96237.85157886,  78022.72827633, 112797.05458116,\n",
              "        71399.04707541, 104517.45308001,  67259.24632483,  67259.24632483,\n",
              "        50700.04332253,  79678.64857656, 183173.66734094,  72227.00722552,\n",
              "       121076.65608231,  96237.85157886,  75538.84782598,  71399.04707541,\n",
              "       104517.45308001, 137635.85908461,  87958.25007771,  50700.04332253,\n",
              "        59807.6049738 , 108657.25383058,  67259.24632483,  71399.04707541,\n",
              "        46560.24257196,  50700.04332253, 121076.65608231,  58979.64482368,\n",
              "       108657.25383058,  83818.44932713, 125216.45683288,  63119.44557426,\n",
              "        75538.84782598,  58979.64482368,  46560.24257196,  75538.84782598,\n",
              "       141775.65983519,  79678.64857656,  48216.16287219,  73054.96737564,\n",
              "        92098.05082828,  52769.94369782,  73054.96737564,  68915.16662506,\n",
              "        63119.44557426,  79678.64857656,  58979.64482368,  71399.04707541,\n",
              "        79678.64857656, 108657.25383058,  71399.04707541,  87958.25007771,\n",
              "        56495.76437334,  58979.64482368, 390163.7048697 ,  67259.24632483,\n",
              "        75538.84782598,  79678.64857656, 141775.65983519,  58979.64482368,\n",
              "        87958.25007771,  77194.76812621, 112797.05458116,  67259.24632483,\n",
              "        52355.96362276,  79678.64857656,  97893.77187909,  71399.04707541,\n",
              "       187313.46809151,  53183.92377288,  96237.85157886,  79678.64857656,\n",
              "        50700.04332253,  63119.44557426,  46560.24257196, 121076.65608231,\n",
              "        71399.04707541,  69743.12677518,  96237.85157886,  48216.16287219,\n",
              "        75538.84782598, 154195.06208691, 191453.26884209,  86302.32977748,\n",
              "        89614.17037794,  46560.24257196,  96237.85157886,  96237.85157886,\n",
              "        62043.09737911,  63119.44557426,  46560.24257196, 100377.65232943,\n",
              "        96237.85157886,  58979.64482368, 104517.45308001,  78022.72827633,\n",
              "       108657.25383058,  63119.44557426, 150055.26133634,  79678.64857656,\n",
              "        48216.16287219,  69743.12677518,  63036.64955924,  81334.56887679,\n",
              "        56495.76437334,  73054.96737564, 120248.69593219, 199732.87034324,\n",
              "        58979.64482368,  61463.52527403,  69743.12677518, 286668.68610532,\n",
              "        54839.84407311,  75538.84782598, 121076.65608231,  71399.04707541,\n",
              "        73054.96737564,  96237.85157886,  73054.96737564,  58979.64482368,\n",
              "       162474.66358806, 100377.65232943,  92098.05082828,  54011.88392299,\n",
              "        58979.64482368, 104517.45308001,  71399.04707541,  52852.73971283,\n",
              "        58979.64482368,  71399.04707541, 154195.06208691,  69743.12677518,\n",
              "        87958.25007771,  67259.24632483,  56495.76437334,  71399.04707541,\n",
              "       158334.86283749,  63119.44557426,  87958.25007771,  87958.25007771,\n",
              "        87958.25007771,  85474.36962736,  87958.25007771, 137635.85908461,\n",
              "        75538.84782598,  59807.6049738 , 253550.28010072,  75538.84782598,\n",
              "       179033.86659036,  71399.04707541, 100377.65232943,  67259.24632483,\n",
              "       100377.65232943,  67259.24632483, 137635.85908461, 179033.86659036,\n",
              "        53183.92377288,  71399.04707541, 137635.85908461,  55667.80422322,\n",
              "       112797.05458116,  51528.00347265,  79678.64857656,  54839.84407311,\n",
              "       170754.26508921, 112797.05458116,  58979.64482368,  71399.04707541,\n",
              "        92098.05082828,  73054.96737564, 150055.26133634,  54839.84407311,\n",
              "       203872.67109381,  61463.52527403,  89614.17037794,  79678.64857656,\n",
              "       102033.57262966,  83818.44932713, 145915.46058576,  75538.84782598,\n",
              "        50700.04332253,  79678.64857656,  79678.64857656, 187313.46809151,\n",
              "        75538.84782598,  86302.32977748,  56495.76437334,  75538.84782598,\n",
              "        55667.80422322, 286668.68610532,  63119.44557426,  63119.44557426,\n",
              "       108657.25383058, 150055.26133634, 162474.66358806,  63119.44557426,\n",
              "        75538.84782598,  71399.04707541,  63119.44557426,  66431.28617472,\n",
              "        79678.64857656, 109485.2139807 ,  54839.84407311,  73054.96737564,\n",
              "       125216.45683288,  71399.04707541,  67259.24632483,  92098.05082828,\n",
              "        67259.24632483,  58979.64482368,  79678.64857656,  92098.05082828,\n",
              "        56495.76437334,  87958.25007771,  79678.64857656,  53183.92377288,\n",
              "        58979.64482368,  58979.64482368,  48216.16287219, 121076.65608231,\n",
              "        71399.04707541,  67259.24632483, 158334.86283749,  63119.44557426,\n",
              "        67259.24632483, 183173.66734094, 121076.65608231,  54839.84407311,\n",
              "        83818.44932713,  79678.64857656,  92098.05082828,  60635.56512391,\n",
              "       104517.45308001, 108657.25383058, 121076.65608231,  71399.04707541,\n",
              "        58979.64482368,  58979.64482368, 119420.73578208, 174894.06583979,\n",
              "        96237.85157886,  54839.84407311,  92098.05082828, 112797.05458116,\n",
              "       158334.86283749,  67259.24632483, 108664.70547193,  73054.96737564,\n",
              "        83818.44932713,  71399.04707541,  64775.36587449,  63119.44557426,\n",
              "        67259.24632483,  58979.64482368, 187313.46809151,  71399.04707541,\n",
              "        63119.44557426,  87958.25007771,  49872.08317242,  54839.84407311,\n",
              "        68087.20647495,  67259.24632483,  63119.44557426, 121076.65608231,\n",
              "        63119.44557426,  52355.96362276,  54839.84407311,  48216.16287219,\n",
              "        79678.64857656,  67259.24632483,  72227.00722552,  68915.16662506,\n",
              "        67259.24632483,  67259.24632483,  45732.28242184, 162474.66358806,\n",
              "       141775.65983519,  75538.84782598,  67259.24632483,  71399.04707541,\n",
              "       145915.46058576,  83818.44932713, 170754.26508921,  51528.00347265,\n",
              "        78022.72827633,  95409.89142874,  63119.44557426, 179033.86659036,\n",
              "        75538.84782598,  92098.05082828,  67259.24632483,  67259.24632483,\n",
              "        44490.34219667,  71399.04707541,  53183.92377288, 137635.85908461,\n",
              "        75538.84782598, 104517.45308001,  67259.24632483,  69743.12677518,\n",
              "        67259.24632483,  63119.44557426, 170754.26508921,  63119.44557426,\n",
              "        54839.84407311,  79678.64857656,  54839.84407311,  75538.84782598,\n",
              "        79678.64857656,  63119.44557426,  78022.72827633, 179033.86659036,\n",
              "        97893.77187909,  73882.92752575,  63119.44557426,  57323.72452345,\n",
              "       667530.35515824,  58979.64482368, 174894.06583979,  92098.05082828,\n",
              "        50700.04332253,  55667.80422322,  79678.64857656,  50700.04332253,\n",
              "        60635.56512391, 100377.65232943, 141775.65983519,  58979.64482368,\n",
              "        75538.84782598,  96237.85157886,  50700.04332253,  57323.72452345,\n",
              "        92098.05082828,  60635.56512391,  63119.44557426,  61463.52527403,\n",
              "        67259.24632483,  61463.52527403,  75538.84782598,  54839.84407311,\n",
              "        76366.8079761 , 100377.65232943, 112797.05458116,  92098.05082828,\n",
              "        54839.84407311, 274249.28385359, 145915.46058576,  79678.64857656,\n",
              "        54839.84407311,  53183.92377288,  75538.84782598,  87958.25007771,\n",
              "       137635.85908461, 129356.25758346,  53183.92377288,  46560.24257196,\n",
              "        60221.58504885, 154195.06208691, 121076.65608231,  79678.64857656,\n",
              "        56495.76437334,  75538.84782598,  92098.05082828,  54839.84407311,\n",
              "       145915.46058576,  71399.04707541,  87958.25007771,  79678.64857656,\n",
              "        50700.04332253,  71399.04707541,  54839.84407311,  54839.84407311,\n",
              "       261829.88160187,  96237.85157886,  83818.44932713,  83641.26585501,\n",
              "        63119.44557426,  71399.04707541,  63119.44557426,  71399.04707541,\n",
              "        54839.84407311,  67259.24632483,  50700.04332253,  72227.00722552,\n",
              "        50700.04332253,  68915.16662506,  89614.17037794,  67259.24632483,\n",
              "        54839.84407311,  67259.24632483,  87958.25007771,  63119.44557426,\n",
              "        63119.44557426,  75538.84782598,  79678.64857656,  71399.04707541,\n",
              "        58979.64482368, 150055.26133634, 145915.46058576,  54839.84407311,\n",
              "       162474.66358806,  71399.04707541,  63119.44557426,  87958.25007771,\n",
              "        95409.89142874,  83818.44932713, 119420.73578208,  80506.60872667,\n",
              "       133496.05833404,  54839.84407311,  79678.64857656, 130184.21773358,\n",
              "       121076.65608231,  71399.04707541,  67259.24632483,  75538.84782598,\n",
              "        52024.77956271, 100377.65232943,  58979.64482368,  84646.40947725,\n",
              "        79678.64857656,  71399.04707541, 104517.45308001, 170754.26508921,\n",
              "       108657.25383058,  63119.44557426, 116936.85533173,  63947.40572437,\n",
              "        67259.24632483,  61463.52527403,  70571.08692529,  63119.44557426,\n",
              "        46560.24257196,  53183.92377288,  58979.64482368,  75538.84782598,\n",
              "        57323.72452345, 162474.66358806,  96237.85157886,  96237.85157886,\n",
              "       108657.25383058,  58979.64482368,  63119.44557426, 129356.25758346,\n",
              "        58979.64482368,  79678.64857656,  57323.72452345,  63119.44557426,\n",
              "        58979.64482368,  77194.76812621,  63119.44557426,  73882.92752575,\n",
              "       112796.22662101,  79678.64857656, 195593.06959266,  75538.84782598,\n",
              "        58979.64482368,  71399.04707541, 199732.87034324,  50700.04332253,\n",
              "        58979.64482368,  58979.64482368, 150055.26133634, 102861.53277978,\n",
              "        75538.84782598,  87958.25007771, 100377.65232943,  54839.84407311,\n",
              "        50700.04332253,  79678.64857656,  58979.64482368,  67259.24632483,\n",
              "        92098.05082828,  78022.72827633,  51528.00347265,  92098.05082828,\n",
              "       129356.25758346, 129356.25758346,  78022.72827633,  58979.64482368,\n",
              "        71399.04707541,  67259.24632483,  64775.36587449,  75538.84782598,\n",
              "       107248.89361524, 150055.26133634,  75538.84782598, 137635.85908461,\n",
              "        54839.84407311,  50700.04332253,  79678.64857656, 121076.65608231,\n",
              "        59807.6049738 ,  79678.64857656,  68915.16662506,  63119.44557426,\n",
              "        50700.04332253,  67259.24632483,  50617.24730752, 145915.46058576,\n",
              "        67259.24632483, 125216.45683288, 104517.45308001,  79678.64857656,\n",
              "        83818.44932713,  58979.64482368,  50700.04332253,  63119.44557426,\n",
              "        75538.84782598,  79678.64857656,  54839.84407311,  92098.05082828,\n",
              "       116936.85533173, 158334.86283749, 108657.25383058,  57737.70459851,\n",
              "        50700.04332253,  67259.24632483,  71399.04707541,  63119.44557426,\n",
              "        79678.64857656,  71399.04707541,  92098.05082828,  67259.24632483,\n",
              "        50700.04332253,  87958.25007771,  46560.24257196,  50700.04332253,\n",
              "        50700.04332253, 121076.65608231,  58979.64482368,  79678.64857656,\n",
              "       112797.05458116,  58979.64482368,  73054.96737564,  58979.64482368,\n",
              "       110313.17413081,  57323.72452345,  58979.64482368,  57323.72452345,\n",
              "       170754.26508921, 100377.65232943,  79678.64857656, 129356.25758346,\n",
              "        67259.24632483,  58979.64482368, 100377.65232943, 285840.7259552 ,\n",
              "       191453.26884209,  78022.72827633,  58979.64482368,  59393.62489874,\n",
              "        64775.36587449,  67259.24632483,  71399.04707541,  54839.84407311,\n",
              "        67259.24632483, 108657.25383058,  67259.24632483,  79678.64857656,\n",
              "        96237.85157886,  87958.25007771,  87130.28992759,  83818.44932713,\n",
              "       137635.85908461, 208012.47184439, 112797.05458116,  67259.24632483,\n",
              "       104517.45308001, 162474.66358806,  73054.96737564,  54839.84407311,\n",
              "        75538.84782598,  83818.44932713,  96237.85157886, 104517.45308001,\n",
              "        79678.64857656,  58979.64482368,  73054.96737564,  63119.44557426,\n",
              "        75538.84782598, 154195.06208691, 116936.85533173,  50700.04332253,\n",
              "        44490.34219667,  50700.04332253,  50700.04332253, 179033.86659036,\n",
              "        75538.84782598,  63119.44557426,  58979.64482368,  59807.6049738 ,\n",
              "        55667.80422322,  54839.84407311,  58151.68467357,  79678.64857656,\n",
              "       191453.26884209,  63119.44557426, 100377.65232943, 154195.06208691,\n",
              "        63119.44557426,  79678.64857656, 140119.73953496,  71399.04707541,\n",
              "        87958.25007771,  83818.44932713,  92098.05082828,  58979.64482368,\n",
              "        87958.25007771,  96237.85157886, 141775.65983519,  63119.44557426,\n",
              "       154195.06208691,  50700.04332253, 100377.65232943,  87958.25007771,\n",
              "        54839.84407311, 150055.26133634, 261829.88160187,  58979.64482368,\n",
              "        57323.72452345,  50286.06324747, 172410.18538944,  67259.24632483,\n",
              "        63119.44557426, 141775.65983519, 137635.85908461,  79678.64857656,\n",
              "        58979.64482368,  87958.25007771,  76366.8079761 , 112797.05458116,\n",
              "        64775.36587449,  96237.85157886,  58151.68467357,  58979.64482368,\n",
              "        54839.84407311, 162474.66358806,  75538.84782598,  71399.04707541,\n",
              "        58979.64482368,  84646.40947725,  92098.05082828,  58979.64482368,\n",
              "        83818.44932713, 116936.85533173,  58151.68467357,  95409.89142874,\n",
              "        83818.44932713,  75538.84782598, 104517.45308001, 203872.67109381,\n",
              "        61463.52527403,  56495.76437334, 121076.65608231, 150055.26133634,\n",
              "        58979.64482368, 133496.05833404,  46560.24257196,  71399.04707541,\n",
              "        50451.6552775 , 137635.85908461, 112797.05458116,  75538.84782598,\n",
              "       141775.65983519,  71399.04707541,  71399.04707541, 203872.67109381,\n",
              "        71399.04707541,  75538.84782598,  53183.92377288,  87958.25007771,\n",
              "        97893.77187909,  67259.24632483,  84646.40947725,  71399.04707541,\n",
              "       158334.86283749,  71399.04707541,  54839.84407311,  75538.84782598,\n",
              "        79678.64857656,  54839.84407311,  67259.24632483,  79678.64857656,\n",
              "       152539.14178668, 183173.66734094, 125216.45683288,  58979.64482368,\n",
              "        54839.84407311,  63119.44557426])"
            ]
          },
          "metadata": {},
          "execution_count": 27
        }
      ]
    },
    {
      "cell_type": "code",
      "source": [
        "#scatterplot\n",
        "plt.figure()\n",
        "plt.plot(x_train,y_pred)\n",
        "plt.show()"
      ],
      "metadata": {
        "colab": {
          "base_uri": "https://localhost:8080/",
          "height": 430
        },
        "id": "DSjt7JmoDowd",
        "outputId": "d86fdd65-b896-48f8-ed98-f939421a6942"
      },
      "execution_count": null,
      "outputs": [
        {
          "output_type": "display_data",
          "data": {
            "text/plain": [
              "<Figure size 640x480 with 1 Axes>"
            ],
            "image/png": "[encoded data removed]"
          },
          "metadata": {}
        }
      ]
    },
    {
      "cell_type": "code",
      "source": [
        "#testing\n",
        "y_pred=lr.predict(np.array(x_test).reshape(-1,1))\n",
        "y_pred"
      ],
      "metadata": {
        "colab": {
          "base_uri": "https://localhost:8080/"
        },
        "id": "vPE2HqDQETn_",
        "outputId": "a1a971ad-2f80-447c-9419-c02af702aa32"
      },
      "execution_count": null,
      "outputs": [
        {
          "output_type": "execute_result",
          "data": {
            "text/plain": [
              "array([ 87958.25007771,  63119.44557426,  57323.72452345,  73054.96737564,\n",
              "       104517.45308001,  87958.25007771,  58979.64482368,  79678.64857656,\n",
              "        71399.04707541,  83818.44932713,  75538.84782598,  87958.25007771,\n",
              "        63119.44557426,  54922.64008812,  82990.48917702,  79678.64857656,\n",
              "        68914.33866491, 162474.66358806, 162474.66358806, 187313.46809151,\n",
              "        48216.16287219,  54839.84407311,  67259.24632483,  87958.25007771,\n",
              "        73054.96737564,  58151.68467357,  54839.84407311,  54839.84407311,\n",
              "       116936.85533173, 129356.25758346,  79678.64857656,  44904.32227173,\n",
              "        75538.84782598,  58979.64482368,  79678.64857656,  75538.84782598,\n",
              "        69743.12677518, 100377.65232943, 170754.26508921, 101205.61247955,\n",
              "        87958.25007771,  87958.25007771,  96237.85157886,  67259.24632483,\n",
              "        58979.64482368,  79678.64857656, 125216.45683288,  61463.52527403,\n",
              "        96237.85157886,  67259.24632483,  63119.44557426,  75538.84782598,\n",
              "        64775.36587449,  60635.56512391,  82990.48917702,  96237.85157886,\n",
              "        67259.24632483,  71399.04707541,  87958.25007771,  53183.92377288,\n",
              "        87958.25007771,  58979.64482368,  63864.60970936,  87958.25007771,\n",
              "        79678.64857656,  46560.24257196,  79678.64857656, 108657.25383058,\n",
              "        92098.05082828,  48216.16287219,  67259.24632483, 100377.65232943,\n",
              "       103275.51285484,  61463.52527403, 145915.46058576,  67259.24632483,\n",
              "        87958.25007771,  58979.64482368,  48216.16287219,  58979.64482368,\n",
              "        87958.25007771,  56495.76437334,  69743.12677518, 150055.26133634,\n",
              "        53183.92377288, 183173.66734094,  58979.64482368, 125216.45683288,\n",
              "        79678.64857656, 104517.45308001,  58979.64482368,  71399.04707541,\n",
              "        92098.05082828,  75538.84782598,  50700.04332253,  63119.44557426,\n",
              "       100377.65232943,  89614.17037794, 129356.25758346,  79678.64857656,\n",
              "        46560.24257196,  69743.12677518,  54839.84407311,  71399.04707541,\n",
              "        46560.24257196, 121076.65608231,  58978.81686353,  50700.04332253,\n",
              "       129356.25758346, 107746.49766546,  67259.24632483,  58979.64482368,\n",
              "        73054.96737564,  50700.04332253,  50700.04332253,  58979.64482368,\n",
              "        75538.84782598,  46560.24257196,  69743.12677518, 112797.05458116,\n",
              "        61463.52527403, 191453.26884209,  63119.44557426,  63119.44557426,\n",
              "        84646.40947725,  71399.04707541,  42420.44182138, 137635.85908461,\n",
              "        58979.64482368,  75538.84782598,  73054.96737564, 104517.45308001,\n",
              "        79678.64857656,  58979.64482368,  67259.24632483, 100377.65232943,\n",
              "       212152.27259496,  58979.64482368,  63119.44557426,  56495.76437334,\n",
              "       137635.85908461,  61463.52527403,  48216.16287219,  71399.04707541,\n",
              "        58731.25677865, 150055.26133634,  57323.72452345,  92098.05082828,\n",
              "        54839.84407311,  73054.96737564, 340486.0958628 ,  87958.25007771,\n",
              "        75538.84782598,  71399.04707541,  87958.25007771,  75538.84782598,\n",
              "        94581.93127863,  57314.6169618 ,  71399.04707541, 145915.46058576,\n",
              "        68087.20647495,  52355.96362276,  63119.44557426,  68915.16662506,\n",
              "        58979.64482368,  92098.05082828, 141775.65983519,  43248.4019715 ,\n",
              "       187313.46809151,  44904.32227173,  63119.44557426,  63119.44557426,\n",
              "        87958.25007771,  61463.52527403,  71399.04707541, 137635.85908461,\n",
              "       162474.66358806,  60221.58504885,  92098.05082828,  87958.25007771,\n",
              "        73054.96737564, 108657.25383058, 108657.25383058,  75538.84782598,\n",
              "       120248.69593219, 102861.53277978,  63119.44557426,  67259.24632483,\n",
              "       110313.17413081,  58979.64482368,  99549.69217932,  62705.4654992 ,\n",
              "       104517.45308001,  71399.04707541,  63119.44557426,  60221.58504885,\n",
              "        67259.24632483, 100377.65232943,  53183.92377288,  64775.36587449,\n",
              "        75538.84782598, 112797.05458116,  79678.64857656,  79678.64857656,\n",
              "        75538.84782598,  79678.64857656,  71399.04707541,  92098.05082828,\n",
              "        87958.25007771, 100377.65232943,  63119.44557426, 133496.05833404,\n",
              "        58979.64482368,  78022.72827633,  54839.84407311,  96237.85157886,\n",
              "        96237.85157886,  55667.80422322,  87958.25007771,  61463.52527403,\n",
              "        54839.84407311,  73882.92752575,  67259.24632483, 311507.49060877,\n",
              "        54839.84407311,  53183.92377288, 170754.26508921, 133496.05833404,\n",
              "       108657.25383058, 100377.65232943,  67259.24632483, 100377.65232943,\n",
              "        53183.92377288,  46560.24257196,  92098.05082828,  54839.84407311,\n",
              "        79678.64857656,  75538.84782598,  86302.32977748,  58979.64482368,\n",
              "        79678.64857656,  67259.24632483,  58979.64482368,  67259.24632483,\n",
              "        67259.24632483, 137635.85908461,  87958.25007771, 112797.05458116,\n",
              "        63119.44557426,  44904.32227173,  68915.16662506,  63119.44557426,\n",
              "        96237.85157886, 154195.06208691,  58979.64482368,  75538.84782598,\n",
              "        92098.05082828,  60635.56512391,  54839.84407311,  73054.96737564,\n",
              "        52355.96362276,  87958.25007771,  71399.04707541, 137635.85908461,\n",
              "       104517.45308001,  87958.25007771,  80506.60872667, 108657.25383058,\n",
              "        61463.52527403,  43248.4019715 ,  75538.84782598, 129356.25758346,\n",
              "        67259.24632483,  86302.32977748,  54839.84407311,  71399.04707541,\n",
              "        46560.24257196, 136807.8989345 ,  50700.04332253,  69743.12677518,\n",
              "        71399.04707541,  73054.96737564,  58979.64482368,  67259.24632483,\n",
              "       170754.26508921, 116936.85533173, 104517.45308001,  58979.64482368,\n",
              "        83818.44932713,  71399.04707541,  54839.84407311, 110313.17413081,\n",
              "       286668.68610532, 137635.85908461, 133496.05833404,  97893.77187909,\n",
              "        79678.64857656, 121076.65608231,  92098.05082828,  71399.04707541,\n",
              "       125216.45683288,  56495.76437334, 170754.26508921,  63119.44557426,\n",
              "        58979.64482368, 137635.85908461,  58979.64482368,  71399.04707541,\n",
              "        79678.64857656,  58979.64482368,  83818.44932713,  63119.44557426,\n",
              "        75538.84782598,  83818.44932713, 116936.85533173,  58979.64482368,\n",
              "       187313.46809151,  58979.64482368,  67259.24632483])"
            ]
          },
          "metadata": {},
          "execution_count": 30
        }
      ]
    },
    {
      "cell_type": "code",
      "source": [
        "#Envalvation of model\n",
        "mse=mean_squared_error(y_test,y_pred)\n",
        "rmse=np.sqrt(mse)\n",
        "mae=mean_absolute_error(y_test,y_pred)\n",
        "r2=r2_score(y_test,y_pred)\n",
        "print(mse)\n",
        "print(rmse)\n",
        "print(mae)\n",
        "print(r2)"
      ],
      "metadata": {
        "colab": {
          "base_uri": "https://localhost:8080/"
        },
        "id": "HZDQG7uPEWXl",
        "outputId": "80d48510-fdc6-4bb1-a5ac-e2b51a0860a6"
      },
      "execution_count": null,
      "outputs": [
        {
          "output_type": "stream",
          "name": "stdout",
          "text": [
            "977426273.2449028\n",
            "31263.81731722636\n",
            "21784.274010895228\n",
            "0.4663354880496152\n"
          ]
        }
      ]
    },
    {
      "cell_type": "code",
      "source": [
        "df.info()"
      ],
      "metadata": {
        "colab": {
          "base_uri": "https://localhost:8080/"
        },
        "id": "xXMyuuG0JeX9",
        "outputId": "1879b173-7c55-488c-b167-75e23eaf4c11"
      },
      "execution_count": null,
      "outputs": [
        {
          "output_type": "stream",
          "name": "stdout",
          "text": [
            "<class 'pandas.core.frame.DataFrame'>\n",
            "RangeIndex: 1061 entries, 0 to 1060\n",
            "Data columns (total 4 columns):\n",
            " #   Column             Non-Null Count  Dtype  \n",
            "---  ------             --------------  -----  \n",
            " 0   selling_price      1061 non-null   int64  \n",
            " 1   year               1061 non-null   int64  \n",
            " 2   km_driven          1061 non-null   int64  \n",
            " 3   ex_showroom_price  1061 non-null   float64\n",
            "dtypes: float64(1), int64(3)\n",
            "memory usage: 33.3 KB\n"
          ]
        }
      ]
    },
    {
      "cell_type": "code",
      "source": [
        "x = df[['ex_showroom_price', 'year']].iloc[:2]\n",
        "y = df['selling_price'].iloc[:2]"
      ],
      "metadata": {
        "id": "mMpX9V3eKKfr"
      },
      "execution_count": null,
      "outputs": []
    },
    {
      "cell_type": "code",
      "source": [
        "x = df[['ex_showroom_price', 'year']].iloc[:1061]\n",
        "y = df['selling_price'].iloc[:1061]"
      ],
      "metadata": {
        "id": "7UKKE6sbMP5P"
      },
      "execution_count": null,
      "outputs": []
    },
    {
      "cell_type": "code",
      "source": [
        "x_train,x_test,y_train,y_test=train_test_split(x,y,test_size=0.3,random_state=1)"
      ],
      "metadata": {
        "id": "ziRHVTFwMR4A"
      },
      "execution_count": null,
      "outputs": []
    },
    {
      "cell_type": "code",
      "source": [
        "lr=LinearRegression()"
      ],
      "metadata": {
        "id": "Xi0s0RE3MYOe"
      },
      "execution_count": null,
      "outputs": []
    },
    {
      "cell_type": "code",
      "source": [
        "lr.fit(x_train,y_train)"
      ],
      "metadata": {
        "colab": {
          "base_uri": "https://localhost:8080/",
          "height": 74
        },
        "id": "jXVm6mrZMXJ-",
        "outputId": "5744ed29-3787-457b-f359-d4b2a3837e64"
      },
      "execution_count": null,
      "outputs": [
        {
          "output_type": "execute_result",
          "data": {
            "text/plain": [
              "LinearRegression()"
            ],
            "text/html": [
              "<style>#sk-container-id-2 {color: black;background-color: white;}#sk-container-id-2 pre{padding: 0;}#sk-container-id-2 div.sk-toggleable {background-color: white;}#sk-container-id-2 label.sk-toggleable__label {cursor: pointer;display: block;width: 100%;margin-bottom: 0;padding: 0.3em;box-sizing: border-box;text-align: center;}#sk-container-id-2 label.sk-toggleable__label-arrow:before {content: \"▸\";float: left;margin-right: 0.25em;color: #696969;}#sk-container-id-2 label.sk-toggleable__label-arrow:hover:before {color: black;}#sk-container-id-2 div.sk-estimator:hover label.sk-toggleable__label-arrow:before {color: black;}#sk-container-id-2 div.sk-toggleable__content {max-height: 0;max-width: 0;overflow: hidden;text-align: left;background-color: #f0f8ff;}#sk-container-id-2 div.sk-toggleable__content pre {margin: 0.2em;color: black;border-radius: 0.25em;background-color: #f0f8ff;}#sk-container-id-2 input.sk-toggleable__control:checked~div.sk-toggleable__content {max-height: 200px;max-width: 100%;overflow: auto;}#sk-container-id-2 input.sk-toggleable__control:checked~label.sk-toggleable__label-arrow:before {content: \"▾\";}#sk-container-id-2 div.sk-estimator input.sk-toggleable__control:checked~label.sk-toggleable__label {background-color: #d4ebff;}#sk-container-id-2 div.sk-label input.sk-toggleable__control:checked~label.sk-toggleable__label {background-color: #d4ebff;}#sk-container-id-2 input.sk-hidden--visually {border: 0;clip: rect(1px 1px 1px 1px);clip: rect(1px, 1px, 1px, 1px);height: 1px;margin: -1px;overflow: hidden;padding: 0;position: absolute;width: 1px;}#sk-container-id-2 div.sk-estimator {font-family: monospace;background-color: #f0f8ff;border: 1px dotted black;border-radius: 0.25em;box-sizing: border-box;margin-bottom: 0.5em;}#sk-container-id-2 div.sk-estimator:hover {background-color: #d4ebff;}#sk-container-id-2 div.sk-parallel-item::after {content: \"\";width: 100%;border-bottom: 1px solid gray;flex-grow: 1;}#sk-container-id-2 div.sk-label:hover label.sk-toggleable__label {background-color: #d4ebff;}#sk-container-id-2 div.sk-serial::before {content: \"\";position: absolute;border-left: 1px solid gray;box-sizing: border-box;top: 0;bottom: 0;left: 50%;z-index: 0;}#sk-container-id-2 div.sk-serial {display: flex;flex-direction: column;align-items: center;background-color: white;padding-right: 0.2em;padding-left: 0.2em;position: relative;}#sk-container-id-2 div.sk-item {position: relative;z-index: 1;}#sk-container-id-2 div.sk-parallel {display: flex;align-items: stretch;justify-content: center;background-color: white;position: relative;}#sk-container-id-2 div.sk-item::before, #sk-container-id-2 div.sk-parallel-item::before {content: \"\";position: absolute;border-left: 1px solid gray;box-sizing: border-box;top: 0;bottom: 0;left: 50%;z-index: -1;}#sk-container-id-2 div.sk-parallel-item {display: flex;flex-direction: column;z-index: 1;position: relative;background-color: white;}#sk-container-id-2 div.sk-parallel-item:first-child::after {align-self: flex-end;width: 50%;}#sk-container-id-2 div.sk-parallel-item:last-child::after {align-self: flex-start;width: 50%;}#sk-container-id-2 div.sk-parallel-item:only-child::after {width: 0;}#sk-container-id-2 div.sk-dashed-wrapped {border: 1px dashed gray;margin: 0 0.4em 0.5em 0.4em;box-sizing: border-box;padding-bottom: 0.4em;background-color: white;}#sk-container-id-2 div.sk-label label {font-family: monospace;font-weight: bold;display: inline-block;line-height: 1.2em;}#sk-container-id-2 div.sk-label-container {text-align: center;}#sk-container-id-2 div.sk-container {/* jupyter's `normalize.less` sets `[hidden] { display: none; }` but bootstrap.min.css set `[hidden] { display: none !important; }` so we also need the `!important` here to be able to override the default hidden behavior on the sphinx rendered scikit-learn.org. See: https://github.com/scikit-learn/scikit-learn/issues/21755 */display: inline-block !important;position: relative;}#sk-container-id-2 div.sk-text-repr-fallback {display: none;}</style><div id=\"sk-container-id-2\" class=\"sk-top-container\"><div class=\"sk-text-repr-fallback\"><pre>LinearRegression()</pre><b>In a Jupyter environment, please rerun this cell to show the HTML representation or trust the notebook. <br />On GitHub, the HTML representation is unable to render, please try loading this page with nbviewer.org.</b></div><div class=\"sk-container\" hidden><div class=\"sk-item\"><div class=\"sk-estimator sk-toggleable\"><input class=\"sk-toggleable__control sk-hidden--visually\" id=\"sk-estimator-id-2\" type=\"checkbox\" checked><label for=\"sk-estimator-id-2\" class=\"sk-toggleable__label sk-toggleable__label-arrow\">LinearRegression</label><div class=\"sk-toggleable__content\"><pre>LinearRegression()</pre></div></div></div></div></div>"
            ]
          },
          "metadata": {},
          "execution_count": 45
        }
      ]
    },
    {
      "cell_type": "code",
      "source": [
        "lr.intercept_"
      ],
      "metadata": {
        "colab": {
          "base_uri": "https://localhost:8080/"
        },
        "id": "raey6adNMnTh",
        "outputId": "6af1bdbf-bcfc-41b1-f13e-685fd437fc9b"
      },
      "execution_count": null,
      "outputs": [
        {
          "output_type": "execute_result",
          "data": {
            "text/plain": [
              "-9757819.86594633"
            ]
          },
          "metadata": {},
          "execution_count": 46
        }
      ]
    },
    {
      "cell_type": "code",
      "source": [
        "lr.coef_"
      ],
      "metadata": {
        "colab": {
          "base_uri": "https://localhost:8080/"
        },
        "id": "Tvmeo37FMqCK",
        "outputId": "5b43fb5d-d107-4977-fee5-2b1a60f55807"
      },
      "execution_count": null,
      "outputs": [
        {
          "output_type": "execute_result",
          "data": {
            "text/plain": [
              "array([6.80052363e-01, 4.84539171e+03])"
            ]
          },
          "metadata": {},
          "execution_count": 47
        }
      ]
    },
    {
      "cell_type": "code",
      "source": [
        "y_pred=lr.predict(x_test)\n",
        "y_pred"
      ],
      "metadata": {
        "colab": {
          "base_uri": "https://localhost:8080/"
        },
        "id": "pFs4sVJ8MsUv",
        "outputId": "c32fa252-3001-4fe8-d523-848142e972bc"
      },
      "execution_count": null,
      "outputs": [
        {
          "output_type": "execute_result",
          "data": {
            "text/plain": [
              "array([ 62797.39890009,  41234.01097944,  10756.28005071,  37124.04346086,\n",
              "        96259.41268107,  64018.11151892,  65460.96955053,  50424.50757859,\n",
              "        53765.58621151,  65460.96955053,  45123.48078109,  72488.18232852,\n",
              "        30100.36951941,  29538.62764043,  84842.53640739,  70306.36126474,\n",
              "        46079.40269366,  75151.75297896, 138727.32265264,  84842.53640739,\n",
              "        26697.8358368 ,  24838.86026716,  49346.60595601,  65189.84174056,\n",
              "        45522.06597407,  46079.40269366,  32421.40686175,  26697.8358368 ,\n",
              "       119808.21002975, 144545.17061906,  68566.33897751,  17007.05240836,\n",
              "        51375.93808868,  31543.22755101,  57714.04473993,  57583.49331326,\n",
              "        64298.99177193,  72488.18232852,  79997.14469318,  64809.72972368,\n",
              "        59322.38720573,  75744.25441605,  -7219.90616272,  44636.54466205,\n",
              "        36388.61926523,  84842.53640739, 134854.38719063,  36388.61926523,\n",
              "        74988.73486768,  46079.40269366,  43827.3382311 ,  30164.31306859,\n",
              "        75151.75297896,  39791.15294784,  37844.88033871,  74988.73486768,\n",
              "        41003.0807671 ,  55770.18612209,  75151.75297896,  27937.87751291,\n",
              "        77815.01386172,  50924.79440788,  49184.77212064,  26697.8358368 ,\n",
              "        56198.86944787,  -7219.90616272,  50124.60448646,  55770.18612209,\n",
              "        62836.91644534,  26697.8358368 ,  46079.40269366,  63224.49041117,\n",
              "        79834.1265819 ,  60615.57783631,  84842.53640739,  50924.79440788,\n",
              "        84842.53640739,  41234.01097944,  50924.79440788,  34983.23862179,\n",
              "        87250.72177284,  21074.05313088,  49473.77574791,  70306.36126474,\n",
              "        16738.73794309,  89687.92812161,  46079.40269366,  97961.50923775,\n",
              "        30215.99704818,  84190.56064704,  25399.20478732,  46079.40269366,\n",
              "        75151.75297896,  75151.75297896,  29538.62764043,  45087.47525994,\n",
              "        84842.53640739,  73343.04540305, 115302.91900528,  65189.84174056,\n",
              "        36388.61926523,  48920.19449729,  34810.43081336,  84842.53640739,\n",
              "        -7219.90616272, 136316.48114427,  20254.62728743,  -3779.89509194,\n",
              "        84842.53640739,  60615.57783631,  31543.22755101,  30186.77342362,\n",
              "        46478.14508841,  21852.44412258,  -6290.64841655,  47594.11101627,\n",
              "        79997.14469318,  -7219.90616272,  52144.3600049 ,  60615.57783631,\n",
              "        46079.40269366, 134387.19121717,  56544.33604833,  27765.82426504,\n",
              "        59259.12370891,  61613.33460067, -16910.68959115, 110409.96087974,\n",
              "        35061.3887624 ,  84842.53640739,  59322.38720573,  76877.84582421,\n",
              "        75151.75297896,  21852.44412258,  50924.79440788,  79090.09341551,\n",
              "        75151.75297896,  75151.75297896,  52823.12677148,  54081.14913504,\n",
              "        65460.96955053,  36839.76294603,  26697.8358368 ,  79997.14469318,\n",
              "        50924.79440788,  75151.75297896,  25341.3817094 ,  57923.48224072,\n",
              "        16699.29490603,  46079.40269366, 264186.82011532,  21852.44412258,\n",
              "        50273.55458103,  57189.0443156 ,  -2374.5144485 ,  56903.44095015,\n",
              "        84842.53640739,  25292.45519335,  44370.68144218,  70306.36126474,\n",
              "        55100.58488144,  31543.22755101,  30035.14037369,  70306.36126474,\n",
              "        40327.10871816,  66606.37218587,  84842.53640739,  -3779.89509194,\n",
              "       143101.38219808,   7316.26897993,  42778.69748718,  55770.18612209,\n",
              "        56228.75449775,  16819.62692021,  56180.50803406, 124993.70243371,\n",
              "       120905.889052  ,  41234.01097944,  68259.5794806 ,  75610.32135461,\n",
              "        42778.69748718,  55770.18612209,  79997.14469318,  59708.67557503,\n",
              "        50924.79440788,  72786.04526356,  34384.01935464,  48920.19449729,\n",
              "        88542.89577095,  65460.96955053,  65723.05867439,  55770.18612209,\n",
              "        79997.14469318,  53404.55291489,  31044.3567076 ,  47097.04861999,\n",
              "        36388.61926523,  84842.53640739,  18043.05974849,  31235.47004868,\n",
              "        55394.38612936, 105272.0348871 ,  17405.79480311,  54279.02574566,\n",
              "        62385.9672204 ,  54047.20239803,  54013.18115283,  65436.07657715,\n",
              "        65919.53792618,  70306.36126474,  41234.01097944, 173702.39706041,\n",
              "        41234.01097944,  51526.89108624,  50924.79440788,  78042.85003041,\n",
              "        65436.07657715,   5718.45214478,  54816.96579193,  39403.59760906,\n",
              "        34937.60060526,  79997.14469318,  30137.84690757, 363947.00838668,\n",
              "        20254.62728743,   6589.59922192,  84842.53640739, 115387.94417772,\n",
              "        84842.53640739,  84190.56064704,  79997.14469318,  85435.03784448,\n",
              "        26697.8358368 ,   1172.24621623,  77992.54478259,  21852.44412258,\n",
              "        57226.44719558,  37608.18486225,  65132.0372897 ,  27733.84317692,\n",
              "        51323.53680263,  35911.49147039,  23397.13063032,  41003.0807671 ,\n",
              "        56228.75449775,  70306.36126474,  65859.71194527,  98131.63409081,\n",
              "        70306.36126474,  17007.05240836,  31543.22755101,  60615.57783631,\n",
              "        70306.36126474,  79997.14469318,  10563.84385899,  48026.62431921,\n",
              "       -16910.68959115,  37606.89926572,  31543.22755101,  84842.53640739,\n",
              "        41234.01097944,  60615.57783631,  54816.96579193,  70306.36126474,\n",
              "        73504.16193196,  70035.23345478,  60590.68486294,  31543.22755101,\n",
              "        50924.79440788, -50828.43159067,  59259.12370891,  65460.96955053,\n",
              "        37920.38477807,  50924.79440788,  25341.3817094 ,  65460.96955053,\n",
              "        -7219.90616272,  70306.36126474,  12161.66069415,  61066.72151711,\n",
              "        79997.14469318,  55118.94629525,  64634.90038521,  60615.57783631,\n",
              "        79997.14469318,  89429.00400008,  85435.03784448,  51235.18587657,\n",
              "        64009.95089056,  56180.50803406,  31543.22755101,  50924.79440788,\n",
              "       255308.68063376,  84842.53640739, 122188.46780883,  84785.58783771,\n",
              "        52125.97996405,  95187.00735854,  65659.09649816,  60615.57783631,\n",
              "       105867.21109416,   6829.6577061 , 142947.0661928 ,  29556.40213711,\n",
              "        24693.23592621,  79997.14469318,  21852.44412258,  46079.40269366,\n",
              "        57952.00718587,  36388.61926523,  52381.07410841,  60615.57783631,\n",
              "        37920.38477807,  56080.57759078,  79997.14469318,  34136.55480267,\n",
              "        84842.53640739,  44407.42289683,  50924.79440788])"
            ]
          },
          "metadata": {},
          "execution_count": 49
        }
      ]
    },
    {
      "cell_type": "code",
      "source": [
        "mse=mean_squared_error(y_test,y_pred)\n",
        "rmse=np.sqrt(mse)\n",
        "mae=mean_absolute_error(y_test,y_pred)\n",
        "r2 = r2_score(y_test,y_pred)\n",
        "print(mse)\n",
        "print(rmse)\n",
        "print(mae)\n",
        "print(r2)"
      ],
      "metadata": {
        "colab": {
          "base_uri": "https://localhost:8080/"
        },
        "id": "gJuy8RgsM3wQ",
        "outputId": "d06ce342-df62-4164-8eae-19ff22fa2146"
      },
      "execution_count": null,
      "outputs": [
        {
          "output_type": "stream",
          "name": "stdout",
          "text": [
            "732165328.6381075\n",
            "27058.553705586473\n",
            "18608.579932227058\n",
            "0.6555548186324953\n"
          ]
        }
      ]
    },
    {
      "cell_type": "code",
      "source": [
        "from sklearn.preprocessing import PolynomialFeatures"
      ],
      "metadata": {
        "id": "shYmBcElNFY1"
      },
      "execution_count": null,
      "outputs": []
    },
    {
      "cell_type": "code",
      "source": [
        "pf=PolynomialFeatures(2)"
      ],
      "metadata": {
        "id": "84oQwlKoNJI2"
      },
      "execution_count": null,
      "outputs": []
    },
    {
      "cell_type": "code",
      "source": [
        "x=df[['ex_showroom_price','year']]\n",
        "y=df[['selling_price']]"
      ],
      "metadata": {
        "id": "iwMCnamqNN5J"
      },
      "execution_count": null,
      "outputs": []
    },
    {
      "cell_type": "code",
      "source": [
        "x_train,x_test,y_train,y_test=train_test_split(x,y,test_size=0.3,random_state=1)"
      ],
      "metadata": {
        "id": "s6Rqt0UpNgz4"
      },
      "execution_count": null,
      "outputs": []
    },
    {
      "cell_type": "code",
      "source": [
        "x_train_poly=pf.fit_transform(x_train)    # fit_transform ----> training datas\n",
        "x_test_poly=pf.transform(x_test)"
      ],
      "metadata": {
        "id": "sPEbS5ZoN2zB"
      },
      "execution_count": null,
      "outputs": []
    },
    {
      "cell_type": "code",
      "source": [
        "lr=LinearRegression()\n",
        "lr.fit(x_train_poly,y_train)"
      ],
      "metadata": {
        "colab": {
          "base_uri": "https://localhost:8080/",
          "height": 74
        },
        "id": "uqHxkqs7N8Mb",
        "outputId": "7ddc5cae-50a3-4b55-f3dc-e8b7ed592ac7"
      },
      "execution_count": null,
      "outputs": [
        {
          "output_type": "execute_result",
          "data": {
            "text/plain": [
              "LinearRegression()"
            ],
            "text/html": [
              "<style>#sk-container-id-3 {color: black;background-color: white;}#sk-container-id-3 pre{padding: 0;}#sk-container-id-3 div.sk-toggleable {background-color: white;}#sk-container-id-3 label.sk-toggleable__label {cursor: pointer;display: block;width: 100%;margin-bottom: 0;padding: 0.3em;box-sizing: border-box;text-align: center;}#sk-container-id-3 label.sk-toggleable__label-arrow:before {content: \"▸\";float: left;margin-right: 0.25em;color: #696969;}#sk-container-id-3 label.sk-toggleable__label-arrow:hover:before {color: black;}#sk-container-id-3 div.sk-estimator:hover label.sk-toggleable__label-arrow:before {color: black;}#sk-container-id-3 div.sk-toggleable__content {max-height: 0;max-width: 0;overflow: hidden;text-align: left;background-color: #f0f8ff;}#sk-container-id-3 div.sk-toggleable__content pre {margin: 0.2em;color: black;border-radius: 0.25em;background-color: #f0f8ff;}#sk-container-id-3 input.sk-toggleable__control:checked~div.sk-toggleable__content {max-height: 200px;max-width: 100%;overflow: auto;}#sk-container-id-3 input.sk-toggleable__control:checked~label.sk-toggleable__label-arrow:before {content: \"▾\";}#sk-container-id-3 div.sk-estimator input.sk-toggleable__control:checked~label.sk-toggleable__label {background-color: #d4ebff;}#sk-container-id-3 div.sk-label input.sk-toggleable__control:checked~label.sk-toggleable__label {background-color: #d4ebff;}#sk-container-id-3 input.sk-hidden--visually {border: 0;clip: rect(1px 1px 1px 1px);clip: rect(1px, 1px, 1px, 1px);height: 1px;margin: -1px;overflow: hidden;padding: 0;position: absolute;width: 1px;}#sk-container-id-3 div.sk-estimator {font-family: monospace;background-color: #f0f8ff;border: 1px dotted black;border-radius: 0.25em;box-sizing: border-box;margin-bottom: 0.5em;}#sk-container-id-3 div.sk-estimator:hover {background-color: #d4ebff;}#sk-container-id-3 div.sk-parallel-item::after {content: \"\";width: 100%;border-bottom: 1px solid gray;flex-grow: 1;}#sk-container-id-3 div.sk-label:hover label.sk-toggleable__label {background-color: #d4ebff;}#sk-container-id-3 div.sk-serial::before {content: \"\";position: absolute;border-left: 1px solid gray;box-sizing: border-box;top: 0;bottom: 0;left: 50%;z-index: 0;}#sk-container-id-3 div.sk-serial {display: flex;flex-direction: column;align-items: center;background-color: white;padding-right: 0.2em;padding-left: 0.2em;position: relative;}#sk-container-id-3 div.sk-item {position: relative;z-index: 1;}#sk-container-id-3 div.sk-parallel {display: flex;align-items: stretch;justify-content: center;background-color: white;position: relative;}#sk-container-id-3 div.sk-item::before, #sk-container-id-3 div.sk-parallel-item::before {content: \"\";position: absolute;border-left: 1px solid gray;box-sizing: border-box;top: 0;bottom: 0;left: 50%;z-index: -1;}#sk-container-id-3 div.sk-parallel-item {display: flex;flex-direction: column;z-index: 1;position: relative;background-color: white;}#sk-container-id-3 div.sk-parallel-item:first-child::after {align-self: flex-end;width: 50%;}#sk-container-id-3 div.sk-parallel-item:last-child::after {align-self: flex-start;width: 50%;}#sk-container-id-3 div.sk-parallel-item:only-child::after {width: 0;}#sk-container-id-3 div.sk-dashed-wrapped {border: 1px dashed gray;margin: 0 0.4em 0.5em 0.4em;box-sizing: border-box;padding-bottom: 0.4em;background-color: white;}#sk-container-id-3 div.sk-label label {font-family: monospace;font-weight: bold;display: inline-block;line-height: 1.2em;}#sk-container-id-3 div.sk-label-container {text-align: center;}#sk-container-id-3 div.sk-container {/* jupyter's `normalize.less` sets `[hidden] { display: none; }` but bootstrap.min.css set `[hidden] { display: none !important; }` so we also need the `!important` here to be able to override the default hidden behavior on the sphinx rendered scikit-learn.org. See: https://github.com/scikit-learn/scikit-learn/issues/21755 */display: inline-block !important;position: relative;}#sk-container-id-3 div.sk-text-repr-fallback {display: none;}</style><div id=\"sk-container-id-3\" class=\"sk-top-container\"><div class=\"sk-text-repr-fallback\"><pre>LinearRegression()</pre><b>In a Jupyter environment, please rerun this cell to show the HTML representation or trust the notebook. <br />On GitHub, the HTML representation is unable to render, please try loading this page with nbviewer.org.</b></div><div class=\"sk-container\" hidden><div class=\"sk-item\"><div class=\"sk-estimator sk-toggleable\"><input class=\"sk-toggleable__control sk-hidden--visually\" id=\"sk-estimator-id-3\" type=\"checkbox\" checked><label for=\"sk-estimator-id-3\" class=\"sk-toggleable__label sk-toggleable__label-arrow\">LinearRegression</label><div class=\"sk-toggleable__content\"><pre>LinearRegression()</pre></div></div></div></div></div>"
            ]
          },
          "metadata": {},
          "execution_count": 58
        }
      ]
    },
    {
      "cell_type": "code",
      "source": [
        "y_pred=lr.predict(x_test_poly)"
      ],
      "metadata": {
        "id": "GIH3Yc_zOFyK"
      },
      "execution_count": null,
      "outputs": []
    },
    {
      "cell_type": "code",
      "source": [
        "mse=mean_squared_error(y_test,y_pred)\n",
        "rmse=np.sqrt(mse)\n",
        "mae=mean_absolute_error(y_test,y_pred)\n",
        "r2 = r2_score(y_test,y_pred)\n",
        "print(mse)\n",
        "print(rmse)\n",
        "print(mae)\n",
        "print(r2)"
      ],
      "metadata": {
        "colab": {
          "base_uri": "https://localhost:8080/"
        },
        "id": "LJDNCi-uOMxa",
        "outputId": "e2a8bdbf-aeac-46b7-b725-33401827320f"
      },
      "execution_count": null,
      "outputs": [
        {
          "output_type": "stream",
          "name": "stdout",
          "text": [
            "647190344.3463306\n",
            "25439.93601301565\n",
            "17244.72364275732\n",
            "0.695531068164176\n"
          ]
        }
      ]
    },
    {
      "cell_type": "code",
      "source": [
        "resid = y_test-y_pred\n",
        "plt.figure()\n",
        "sns.distplot(resid)\n",
        "plt.show()"
      ],
      "metadata": {
        "colab": {
          "base_uri": "https://localhost:8080/",
          "height": 445
        },
        "id": "oUqXPZzVORnb",
        "outputId": "cf8ddc85-c512-48bd-be1f-881709d8deea"
      },
      "execution_count": null,
      "outputs": [
        {
          "output_type": "display_data",
          "data": {
            "text/plain": [
              "<Figure size 640x480 with 1 Axes>"
            ],
            "image/png": "[encoded data removed]"
          },
          "metadata": {}
        }
      ]
    }
  ]
}