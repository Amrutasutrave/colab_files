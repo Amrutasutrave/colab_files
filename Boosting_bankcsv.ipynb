{
  "nbformat": 4,
  "nbformat_minor": 0,
  "metadata": {
    "colab": {
      "provenance": [],
      "authorship_tag": "ABX9TyPVSA6z7Eo9LBaeeQLAA5aM",
      "include_colab_link": true
    },
    "kernelspec": {
      "name": "python3",
      "display_name": "Python 3"
    },
    "language_info": {
      "name": "python"
    }
  },
  "cells": [
    {
      "cell_type": "markdown",
      "metadata": {
        "id": "view-in-github",
        "colab_type": "text"
      },
      "source": [
        "<a href=\"https://colab.research.google.com/github/Amrutasutrave/colab_files/blob/main/Boosting_bankcsv.ipynb\" target=\"_parent\"><img src=\"https://colab.research.google.com/assets/colab-badge.svg\" alt=\"Open In Colab\"/></a>"
      ]
    },
    {
      "cell_type": "code",
      "execution_count": null,
      "metadata": {
        "id": "sAPLPiN8I8I5"
      },
      "outputs": [],
      "source": [
        "import numpy as np\n",
        "import pandas as pd\n",
        "import matplotlib.pyplot as plt\n",
        "import seaborn as sns"
      ]
    },
    {
      "cell_type": "code",
      "source": [],
      "metadata": {
        "id": "seCo5UN7hbG7"
      },
      "execution_count": null,
      "outputs": []
    },
    {
      "cell_type": "code",
      "source": [
        "from sklearn.preprocessing import LabelEncoder\n",
        "from sklearn.tree import DecisionTreeClassifier\n",
        "from sklearn.model_selection import train_test_split"
      ],
      "metadata": {
        "id": "otWPi2nCJn8i"
      },
      "execution_count": null,
      "outputs": []
    },
    {
      "cell_type": "code",
      "source": [
        "df=pd.read_csv(\"/content/bank.csv\")"
      ],
      "metadata": {
        "id": "OHby0-4nJ7mL"
      },
      "execution_count": null,
      "outputs": []
    },
    {
      "cell_type": "code",
      "source": [
        "#defining training and testing data\n",
        "X=df.drop('deposit',axis=1)\n",
        "Y=df['deposit']"
      ],
      "metadata": {
        "id": "BHfaNxuo6K53"
      },
      "execution_count": null,
      "outputs": []
    },
    {
      "cell_type": "code",
      "source": [
        "#training & testing data\n",
        "xtrain,xtest,ytrain,ytest=train_test_split(X,Y,test_size=0.3,random_state=1)"
      ],
      "metadata": {
        "id": "tMHavKLf6ZuD"
      },
      "execution_count": null,
      "outputs": []
    },
    {
      "cell_type": "code",
      "source": [
        "#fitting of weak classifier\n",
        "#weak learner or weak classifier maen of algo that consists pf error or mistake\n",
        "df_clf=DecisionTreeClassifier(max_depth=1,random_state=0)\n",
        "df_clf.fit(xtrain,ytrain)\n",
        "df_score=df_clf.score(xtest,ytest)\n",
        "print('decision tree score',df_score)"
      ],
      "metadata": {
        "colab": {
          "base_uri": "https://localhost:8080/"
        },
        "id": "0gg3c4EC6s5i",
        "outputId": "aad8f086-190b-4d9a-af82-75d4d5fb3456"
      },
      "execution_count": null,
      "outputs": [
        {
          "output_type": "stream",
          "name": "stdout",
          "text": [
            "decision tree score 0.7121528814571514\n"
          ]
        }
      ]
    },
    {
      "cell_type": "code",
      "source": [
        "#fitting of weakclassifier with adaboost\n",
        "from sklearn.ensemble import AdaBoostClassifier"
      ],
      "metadata": {
        "id": "0KGFMFHl7Xcf"
      },
      "execution_count": null,
      "outputs": []
    },
    {
      "cell_type": "code",
      "source": [
        "#n_estimator=it controls the number of weak learners\n",
        "#base estimator--it helps to specify different ML algorithm\n",
        "ada_clf=AdaBoostClassifier(base_estimator=df_clf,random_state=0)\n",
        "ada_clf.fit(xtrain,ytrain)\n",
        "ada_score=ada_clf.score (xtest,ytest)\n",
        "print(\"ada boost score is\",ada_score)"
      ],
      "metadata": {
        "colab": {
          "base_uri": "https://localhost:8080/"
        },
        "id": "opmdhaLH7kR3",
        "outputId": "fcc247d1-6db6-4f3c-e7ae-384b638da0aa"
      },
      "execution_count": null,
      "outputs": [
        {
          "output_type": "stream",
          "name": "stderr",
          "text": [
            "/usr/local/lib/python3.10/dist-packages/sklearn/ensemble/_base.py:166: FutureWarning: `base_estimator` was renamed to `estimator` in version 1.2 and will be removed in 1.4.\n",
            "  warnings.warn(\n"
          ]
        },
        {
          "output_type": "stream",
          "name": "stdout",
          "text": [
            "ada boost score is 0.826515377724694\n"
          ]
        }
      ]
    },
    {
      "cell_type": "code",
      "source": [
        "#Date-08/05/24 start------------------------"
      ],
      "metadata": {
        "id": "BizBBXg_fkGp"
      },
      "execution_count": null,
      "outputs": []
    },
    {
      "cell_type": "code",
      "source": [
        "#fitting of weakclassifier with gradientBoost\n",
        "from sklearn.ensemble import GradientBoostingClassifier\n",
        "gb_clf=GradientBoostingClassifier(random_state=0)\n",
        "gb_clf.fit(xtrain,ytrain)\n",
        "gb_score=gb_clf.score(xtest,ytest)\n",
        "print(\"Gradient Boost score is\",gb_score)"
      ],
      "metadata": {
        "id": "WA01fvn37q_e",
        "colab": {
          "base_uri": "https://localhost:8080/"
        },
        "outputId": "a4ef348b-33f2-487b-80f6-a78d534e8849"
      },
      "execution_count": null,
      "outputs": [
        {
          "output_type": "stream",
          "name": "stdout",
          "text": [
            "Gradient Boost score is 0.8378620483726485\n"
          ]
        }
      ]
    },
    {
      "cell_type": "code",
      "source": [
        "#fitting of weakclassifire with ExtremeGradientBoost\n",
        "from xgboost import XGBClassifier\n",
        "xgb_clf=XGBClassifier(base_estimators=df_clf,random_state=0)\n",
        "xgb_clf.fit(xtrain,ytrain)\n",
        "xgb_score=xgb_clf.score(xtest,ytest)\n",
        "print('grident boost score is',xgb_score)"
      ],
      "metadata": {
        "colab": {
          "base_uri": "https://localhost:8080/"
        },
        "id": "IMu5OWgogffg",
        "outputId": "a9777bd5-c60d-479b-8a1a-6b9c1d410520"
      },
      "execution_count": null,
      "outputs": [
        {
          "output_type": "stream",
          "name": "stderr",
          "text": [
            "/usr/local/lib/python3.10/dist-packages/xgboost/core.py:160: UserWarning: [14:05:24] WARNING: /workspace/src/learner.cc:742: \n",
            "Parameters: { \"base_estimators\" } are not used.\n",
            "\n",
            "  warnings.warn(smsg, UserWarning)\n"
          ]
        },
        {
          "output_type": "stream",
          "name": "stdout",
          "text": [
            "grident boost score is 0.8536876679605853\n"
          ]
        }
      ]
    }
  ]
}